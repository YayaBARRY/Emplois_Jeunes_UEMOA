{
 "cells": [
  {
   "cell_type": "markdown",
   "id": "d619972e-209e-45ee-859a-8bc8e9322680",
   "metadata": {},
   "source": [
    "# 1. Problématique"
   ]
  },
  {
   "cell_type": "raw",
   "id": "3b3c0ccd-7390-498f-bc58-4fc290e921fc",
   "metadata": {},
   "source": [
    "En Afrique de l’Ouest, la jeunesse représente à la fois un formidable levier de croissance et un défi majeur de gouvernance. Au Sénégal, près de 60 % de la population a moins de 25 ans, une dynamique démographique qui pourrait constituer un atout décisif pour le développement économique. Pourtant, cette force vive peine à trouver sa place sur le marché du travail. Chômage élevé, montée du sous-emploi, et décrochage des jeunes diplômés traduisent un paradoxe préoccupant : l’augmentation du niveau d’instruction ne garantit plus l’accès à un emploi décent.\n",
    "\n",
    "Ce désalignement entre le système éducatif et les besoins du tissu économique interroge profondément les modèles de croissance actuels. Dès lors, une question centrale s’impose :\n",
    "Le système éducatif sénégalais (et plus largement ouest-africain) est-il suffisamment aligné sur les besoins réels du tissu économique pour transformer le potentiel démographique en opportunité inclusive et durable ?\n",
    "\n",
    "En mobilisant des données empiriques de l'UEMOA avec des outils d’analyse prédictive, cette étude adopte une approche croisée autour de trois axes :\n",
    "    - L’impact réel du niveau d’éducation sur l’accès à l’emploi chez les jeunes, en lien avec les taux d’inactivité et de chômage observés ;\n",
    "    - L’identification des secteurs à fort potentiel d’absorption de la main-d’œuvre jeune d’ici 2030, à travers des modèles prédictifs sectoriels ;\n",
    "    - Les écarts de genre persistants dans la participation économique, à l’intersection du niveau d’étude, des zones géographiques et des statuts d’activité ;\n",
    "\n",
    "Enfin, à partir de scénarios prospectifs (croissance inclusive, parité, formation ciblée, décentralisation…), pour le Sénégal, ce travail vise à formuler des recommandations concrètes pour les décideurs publics, bailleurs et acteurs de terrain afin de :\n",
    "    - Réduire l’inadéquation formation-emploi ;\n",
    "    - Favoriser l’autonomisation des jeunes femmes ;\n",
    "    - Et maximiser la contribution des jeunes aux chaînes de valeur émergentes du continent."
   ]
  },
  {
   "cell_type": "markdown",
   "id": "c2ed8904-9257-4c2d-a16c-c93d586fb2ab",
   "metadata": {},
   "source": [
    "# 2. Nettoyage et préparation des données"
   ]
  },
  {
   "cell_type": "code",
   "execution_count": 3,
   "id": "1ed46f67-f0a7-4ca2-b00f-db256ab61b0d",
   "metadata": {},
   "outputs": [],
   "source": [
    "import pandas as pd\n",
    "\n",
    "# Chargement des fichiers\n",
    "df_student = pd.read_csv(\"Data_africa_education_student.csv\")\n",
    "df_inactive = pd.read_csv(\"Data_africa_education_inactive.csv\")\n",
    "df_unemployed = pd.read_csv(\"Data_africa_education_unemployed.csv\")\n",
    "df_sector_employed = pd.read_csv(\"Data_africa_sector_employed.csv\")\n",
    "df_rural_urban = pd.read_csv(\"Data_employed_rural_urban.csv\")"
   ]
  },
  {
   "cell_type": "code",
   "execution_count": 4,
   "id": "e50caa9b-46fc-4ee9-acd5-857b6777de37",
   "metadata": {},
   "outputs": [
    {
     "data": {
      "text/html": [
       "<div>\n",
       "<style scoped>\n",
       "    .dataframe tbody tr th:only-of-type {\n",
       "        vertical-align: middle;\n",
       "    }\n",
       "\n",
       "    .dataframe tbody tr th {\n",
       "        vertical-align: top;\n",
       "    }\n",
       "\n",
       "    .dataframe thead th {\n",
       "        text-align: right;\n",
       "    }\n",
       "</style>\n",
       "<table border=\"1\" class=\"dataframe\">\n",
       "  <thead>\n",
       "    <tr style=\"text-align: right;\">\n",
       "      <th></th>\n",
       "      <th>ccode</th>\n",
       "      <th>country</th>\n",
       "      <th>year</th>\n",
       "      <th>age</th>\n",
       "      <th>gender</th>\n",
       "      <th>status</th>\n",
       "      <th>urban</th>\n",
       "      <th>population</th>\n",
       "      <th>education</th>\n",
       "      <th>sector</th>\n",
       "      <th>sector_group</th>\n",
       "      <th>informal</th>\n",
       "    </tr>\n",
       "  </thead>\n",
       "  <tbody>\n",
       "    <tr>\n",
       "      <th>8390</th>\n",
       "      <td>BFA</td>\n",
       "      <td>Burkina Faso</td>\n",
       "      <td>2016</td>\n",
       "      <td>34</td>\n",
       "      <td>male</td>\n",
       "      <td>unemployed</td>\n",
       "      <td>urban</td>\n",
       "      <td>2061</td>\n",
       "      <td>NaN</td>\n",
       "      <td>NaN</td>\n",
       "      <td>NaN</td>\n",
       "      <td>NaN</td>\n",
       "    </tr>\n",
       "    <tr>\n",
       "      <th>25021</th>\n",
       "      <td>COG</td>\n",
       "      <td>Congo</td>\n",
       "      <td>2019</td>\n",
       "      <td>34</td>\n",
       "      <td>male</td>\n",
       "      <td>employed</td>\n",
       "      <td>urban</td>\n",
       "      <td>15507</td>\n",
       "      <td>NaN</td>\n",
       "      <td>NaN</td>\n",
       "      <td>NaN</td>\n",
       "      <td>NaN</td>\n",
       "    </tr>\n",
       "    <tr>\n",
       "      <th>56553</th>\n",
       "      <td>GNQ</td>\n",
       "      <td>Equatorial Guinea</td>\n",
       "      <td>2015</td>\n",
       "      <td>28</td>\n",
       "      <td>female</td>\n",
       "      <td>employed</td>\n",
       "      <td>urban</td>\n",
       "      <td>1594</td>\n",
       "      <td>NaN</td>\n",
       "      <td>NaN</td>\n",
       "      <td>NaN</td>\n",
       "      <td>NaN</td>\n",
       "    </tr>\n",
       "    <tr>\n",
       "      <th>114646</th>\n",
       "      <td>SWZ</td>\n",
       "      <td>Eswatini</td>\n",
       "      <td>2015</td>\n",
       "      <td>20</td>\n",
       "      <td>male</td>\n",
       "      <td>employed</td>\n",
       "      <td>urban</td>\n",
       "      <td>1017</td>\n",
       "      <td>NaN</td>\n",
       "      <td>NaN</td>\n",
       "      <td>NaN</td>\n",
       "      <td>NaN</td>\n",
       "    </tr>\n",
       "    <tr>\n",
       "      <th>1414</th>\n",
       "      <td>AGO</td>\n",
       "      <td>Angola</td>\n",
       "      <td>2023</td>\n",
       "      <td>23</td>\n",
       "      <td>male</td>\n",
       "      <td>unemployed</td>\n",
       "      <td>rural</td>\n",
       "      <td>3935</td>\n",
       "      <td>NaN</td>\n",
       "      <td>NaN</td>\n",
       "      <td>NaN</td>\n",
       "      <td>NaN</td>\n",
       "    </tr>\n",
       "    <tr>\n",
       "      <th>11956</th>\n",
       "      <td>BWA</td>\n",
       "      <td>Botswana</td>\n",
       "      <td>2022</td>\n",
       "      <td>18</td>\n",
       "      <td>male</td>\n",
       "      <td>employed</td>\n",
       "      <td>rural</td>\n",
       "      <td>2328</td>\n",
       "      <td>NaN</td>\n",
       "      <td>NaN</td>\n",
       "      <td>NaN</td>\n",
       "      <td>NaN</td>\n",
       "    </tr>\n",
       "    <tr>\n",
       "      <th>39235</th>\n",
       "      <td>EGY</td>\n",
       "      <td>Egypt</td>\n",
       "      <td>2024</td>\n",
       "      <td>26</td>\n",
       "      <td>female</td>\n",
       "      <td>unemployed</td>\n",
       "      <td>rural</td>\n",
       "      <td>5666</td>\n",
       "      <td>NaN</td>\n",
       "      <td>NaN</td>\n",
       "      <td>NaN</td>\n",
       "      <td>NaN</td>\n",
       "    </tr>\n",
       "    <tr>\n",
       "      <th>83674</th>\n",
       "      <td>MUS</td>\n",
       "      <td>Mauritius</td>\n",
       "      <td>2017</td>\n",
       "      <td>16</td>\n",
       "      <td>female</td>\n",
       "      <td>unemployed</td>\n",
       "      <td>urban</td>\n",
       "      <td>569</td>\n",
       "      <td>NaN</td>\n",
       "      <td>NaN</td>\n",
       "      <td>NaN</td>\n",
       "      <td>NaN</td>\n",
       "    </tr>\n",
       "    <tr>\n",
       "      <th>24409</th>\n",
       "      <td>COG</td>\n",
       "      <td>Congo</td>\n",
       "      <td>2016</td>\n",
       "      <td>21</td>\n",
       "      <td>female</td>\n",
       "      <td>employed</td>\n",
       "      <td>rural</td>\n",
       "      <td>5165</td>\n",
       "      <td>NaN</td>\n",
       "      <td>NaN</td>\n",
       "      <td>NaN</td>\n",
       "      <td>NaN</td>\n",
       "    </tr>\n",
       "    <tr>\n",
       "      <th>66435</th>\n",
       "      <td>LBY</td>\n",
       "      <td>Libya</td>\n",
       "      <td>2023</td>\n",
       "      <td>31</td>\n",
       "      <td>male</td>\n",
       "      <td>employed</td>\n",
       "      <td>urban</td>\n",
       "      <td>25615</td>\n",
       "      <td>NaN</td>\n",
       "      <td>NaN</td>\n",
       "      <td>NaN</td>\n",
       "      <td>NaN</td>\n",
       "    </tr>\n",
       "  </tbody>\n",
       "</table>\n",
       "</div>"
      ],
      "text/plain": [
       "       ccode            country  year  age  gender      status  urban  \\\n",
       "8390     BFA       Burkina Faso  2016   34    male  unemployed  urban   \n",
       "25021    COG              Congo  2019   34    male    employed  urban   \n",
       "56553    GNQ  Equatorial Guinea  2015   28  female    employed  urban   \n",
       "114646   SWZ           Eswatini  2015   20    male    employed  urban   \n",
       "1414     AGO             Angola  2023   23    male  unemployed  rural   \n",
       "11956    BWA           Botswana  2022   18    male    employed  rural   \n",
       "39235    EGY              Egypt  2024   26  female  unemployed  rural   \n",
       "83674    MUS          Mauritius  2017   16  female  unemployed  urban   \n",
       "24409    COG              Congo  2016   21  female    employed  rural   \n",
       "66435    LBY              Libya  2023   31    male    employed  urban   \n",
       "\n",
       "        population  education  sector  sector_group  informal  \n",
       "8390          2061        NaN     NaN           NaN       NaN  \n",
       "25021        15507        NaN     NaN           NaN       NaN  \n",
       "56553         1594        NaN     NaN           NaN       NaN  \n",
       "114646        1017        NaN     NaN           NaN       NaN  \n",
       "1414          3935        NaN     NaN           NaN       NaN  \n",
       "11956         2328        NaN     NaN           NaN       NaN  \n",
       "39235         5666        NaN     NaN           NaN       NaN  \n",
       "83674          569        NaN     NaN           NaN       NaN  \n",
       "24409         5165        NaN     NaN           NaN       NaN  \n",
       "66435        25615        NaN     NaN           NaN       NaN  "
      ]
     },
     "execution_count": 4,
     "metadata": {},
     "output_type": "execute_result"
    }
   ],
   "source": [
    "# Affichage des données\n",
    "df_rural_urban.sample(10)"
   ]
  },
  {
   "cell_type": "code",
   "execution_count": 5,
   "id": "b4b452a4-bf61-4647-896c-cfaa9ae8713b",
   "metadata": {},
   "outputs": [
    {
     "name": "stdout",
     "output_type": "stream",
     "text": [
      "<class 'pandas.core.frame.DataFrame'>\n",
      "RangeIndex: 145080 entries, 0 to 145079\n",
      "Data columns (total 12 columns):\n",
      " #   Column        Non-Null Count   Dtype  \n",
      "---  ------        --------------   -----  \n",
      " 0   ccode         145080 non-null  object \n",
      " 1   country       145080 non-null  object \n",
      " 2   year          145080 non-null  int64  \n",
      " 3   age           145080 non-null  int64  \n",
      " 4   gender        145080 non-null  object \n",
      " 5   status        145080 non-null  object \n",
      " 6   urban         145080 non-null  object \n",
      " 7   population    145080 non-null  int64  \n",
      " 8   education     0 non-null       float64\n",
      " 9   sector        0 non-null       float64\n",
      " 10  sector_group  0 non-null       float64\n",
      " 11  informal      0 non-null       float64\n",
      "dtypes: float64(4), int64(3), object(5)\n",
      "memory usage: 13.3+ MB\n"
     ]
    }
   ],
   "source": [
    "# Structure des données\n",
    "df_rural_urban.info()"
   ]
  },
  {
   "cell_type": "code",
   "execution_count": 6,
   "id": "e72520c1-1e4f-471f-b360-7eb1f9b1bf8b",
   "metadata": {},
   "outputs": [
    {
     "data": {
      "text/plain": [
       "education       100.0\n",
       "sector          100.0\n",
       "sector_group    100.0\n",
       "informal        100.0\n",
       "ccode             0.0\n",
       "country           0.0\n",
       "year              0.0\n",
       "age               0.0\n",
       "gender            0.0\n",
       "status            0.0\n",
       "urban             0.0\n",
       "population        0.0\n",
       "dtype: float64"
      ]
     },
     "execution_count": 6,
     "metadata": {},
     "output_type": "execute_result"
    }
   ],
   "source": [
    "# Pourcentage de valeurs manquantes par colonne pour df_sector_employed\n",
    "percent_missing = (df_rural_urban.isna().sum() / df_rural_urban.shape[0])*100\n",
    "percent_missing.sort_values(ascending=False)"
   ]
  },
  {
   "cell_type": "code",
   "execution_count": 7,
   "id": "13b8d492-71c5-4c72-ae8e-a1de77586dc3",
   "metadata": {},
   "outputs": [
    {
     "name": "stdout",
     "output_type": "stream",
     "text": [
      "Colonnes après nettoyage : ['country', 'year', 'age', 'sex', 'education_level', 'status', 'population']\n",
      "Forme du DataFrame nettoyé : (397245, 7)\n"
     ]
    }
   ],
   "source": [
    "# Fusion des 3 fichiers \"student\", \"inactive\", \"unemployed\" dans un seul DataFrame\n",
    "\n",
    "# Harmonisation des colonnes : renommage\n",
    "def nettoyer_df_education(df, statut):\n",
    "    df = df.rename(columns={\n",
    "        'gender': 'sex',\n",
    "        'education': 'education_level'\n",
    "    })\n",
    "    df['status'] = statut\n",
    "    colonnes_utiles = ['country', 'year', 'age', 'sex', 'education_level', 'status', 'population']\n",
    "    return df[colonnes_utiles]\n",
    "\n",
    "# Application sur les 3 fichiers\n",
    "df_inactive_clean = nettoyer_df_education(df_inactive, 'inactive')\n",
    "df_student_clean = nettoyer_df_education(df_student, 'student')\n",
    "df_unemployed_clean = nettoyer_df_education(df_unemployed, 'unemployed')\n",
    "\n",
    "# Fusion verticale\n",
    "df_education_combined = pd.concat([\n",
    "    df_inactive_clean,\n",
    "    df_student_clean,\n",
    "    df_unemployed_clean\n",
    "], axis=0).reset_index(drop=True)\n",
    "\n",
    "# Par précaution : suppression des colonnes parasites (si jamais elles réapparaissent)\n",
    "colonnes_vides = [\"sector\", \"sector_group\", \"urban_rural\", \"informal_formal\", \"ccode\"]\n",
    "df_education_combined_clean = df_education_combined.drop(columns=colonnes_vides, errors='ignore')\n",
    "\n",
    "# Vérification\n",
    "print(\"Colonnes après nettoyage :\", df_education_combined_clean.columns.tolist())\n",
    "print(\"Forme du DataFrame nettoyé :\", df_education_combined_clean.shape)"
   ]
  },
  {
   "cell_type": "code",
   "execution_count": 8,
   "id": "148260c9-e619-456f-b71e-892986b571ef",
   "metadata": {},
   "outputs": [
    {
     "data": {
      "text/html": [
       "<div>\n",
       "<style scoped>\n",
       "    .dataframe tbody tr th:only-of-type {\n",
       "        vertical-align: middle;\n",
       "    }\n",
       "\n",
       "    .dataframe tbody tr th {\n",
       "        vertical-align: top;\n",
       "    }\n",
       "\n",
       "    .dataframe thead th {\n",
       "        text-align: right;\n",
       "    }\n",
       "</style>\n",
       "<table border=\"1\" class=\"dataframe\">\n",
       "  <thead>\n",
       "    <tr style=\"text-align: right;\">\n",
       "      <th></th>\n",
       "      <th>country</th>\n",
       "      <th>year</th>\n",
       "      <th>age</th>\n",
       "      <th>sex</th>\n",
       "      <th>education_level</th>\n",
       "      <th>status</th>\n",
       "      <th>population</th>\n",
       "    </tr>\n",
       "  </thead>\n",
       "  <tbody>\n",
       "    <tr>\n",
       "      <th>0</th>\n",
       "      <td>Angola</td>\n",
       "      <td>2015</td>\n",
       "      <td>15</td>\n",
       "      <td>female</td>\n",
       "      <td>secondary</td>\n",
       "      <td>inactive</td>\n",
       "      <td>95</td>\n",
       "    </tr>\n",
       "    <tr>\n",
       "      <th>1</th>\n",
       "      <td>Angola</td>\n",
       "      <td>2015</td>\n",
       "      <td>15</td>\n",
       "      <td>female</td>\n",
       "      <td>no</td>\n",
       "      <td>inactive</td>\n",
       "      <td>1072</td>\n",
       "    </tr>\n",
       "    <tr>\n",
       "      <th>2</th>\n",
       "      <td>Angola</td>\n",
       "      <td>2015</td>\n",
       "      <td>15</td>\n",
       "      <td>female</td>\n",
       "      <td>primary</td>\n",
       "      <td>inactive</td>\n",
       "      <td>572</td>\n",
       "    </tr>\n",
       "    <tr>\n",
       "      <th>3</th>\n",
       "      <td>Angola</td>\n",
       "      <td>2015</td>\n",
       "      <td>15</td>\n",
       "      <td>male</td>\n",
       "      <td>primary</td>\n",
       "      <td>inactive</td>\n",
       "      <td>39276</td>\n",
       "    </tr>\n",
       "    <tr>\n",
       "      <th>4</th>\n",
       "      <td>Angola</td>\n",
       "      <td>2015</td>\n",
       "      <td>15</td>\n",
       "      <td>male</td>\n",
       "      <td>no</td>\n",
       "      <td>inactive</td>\n",
       "      <td>29323</td>\n",
       "    </tr>\n",
       "    <tr>\n",
       "      <th>...</th>\n",
       "      <td>...</td>\n",
       "      <td>...</td>\n",
       "      <td>...</td>\n",
       "      <td>...</td>\n",
       "      <td>...</td>\n",
       "      <td>...</td>\n",
       "      <td>...</td>\n",
       "    </tr>\n",
       "    <tr>\n",
       "      <th>397240</th>\n",
       "      <td>Uganda</td>\n",
       "      <td>2030</td>\n",
       "      <td>35</td>\n",
       "      <td>female</td>\n",
       "      <td>tertiary</td>\n",
       "      <td>unemployed</td>\n",
       "      <td>1258</td>\n",
       "    </tr>\n",
       "    <tr>\n",
       "      <th>397241</th>\n",
       "      <td>Uganda</td>\n",
       "      <td>2030</td>\n",
       "      <td>35</td>\n",
       "      <td>male</td>\n",
       "      <td>no</td>\n",
       "      <td>unemployed</td>\n",
       "      <td>2164</td>\n",
       "    </tr>\n",
       "    <tr>\n",
       "      <th>397242</th>\n",
       "      <td>Uganda</td>\n",
       "      <td>2030</td>\n",
       "      <td>35</td>\n",
       "      <td>male</td>\n",
       "      <td>primary</td>\n",
       "      <td>unemployed</td>\n",
       "      <td>2971</td>\n",
       "    </tr>\n",
       "    <tr>\n",
       "      <th>397243</th>\n",
       "      <td>Uganda</td>\n",
       "      <td>2030</td>\n",
       "      <td>35</td>\n",
       "      <td>male</td>\n",
       "      <td>secondary</td>\n",
       "      <td>unemployed</td>\n",
       "      <td>2310</td>\n",
       "    </tr>\n",
       "    <tr>\n",
       "      <th>397244</th>\n",
       "      <td>Uganda</td>\n",
       "      <td>2030</td>\n",
       "      <td>35</td>\n",
       "      <td>male</td>\n",
       "      <td>tertiary</td>\n",
       "      <td>unemployed</td>\n",
       "      <td>790</td>\n",
       "    </tr>\n",
       "  </tbody>\n",
       "</table>\n",
       "<p>397245 rows × 7 columns</p>\n",
       "</div>"
      ],
      "text/plain": [
       "       country  year  age     sex education_level      status  population\n",
       "0       Angola  2015   15  female       secondary    inactive          95\n",
       "1       Angola  2015   15  female              no    inactive        1072\n",
       "2       Angola  2015   15  female         primary    inactive         572\n",
       "3       Angola  2015   15    male         primary    inactive       39276\n",
       "4       Angola  2015   15    male              no    inactive       29323\n",
       "...        ...   ...  ...     ...             ...         ...         ...\n",
       "397240  Uganda  2030   35  female        tertiary  unemployed        1258\n",
       "397241  Uganda  2030   35    male              no  unemployed        2164\n",
       "397242  Uganda  2030   35    male         primary  unemployed        2971\n",
       "397243  Uganda  2030   35    male       secondary  unemployed        2310\n",
       "397244  Uganda  2030   35    male        tertiary  unemployed         790\n",
       "\n",
       "[397245 rows x 7 columns]"
      ]
     },
     "execution_count": 8,
     "metadata": {},
     "output_type": "execute_result"
    }
   ],
   "source": [
    "# Affichage des données des 3 fichiers combinés\n",
    "df_education_combined_clean"
   ]
  },
  {
   "cell_type": "code",
   "execution_count": 9,
   "id": "78281f77-5009-4da7-a00a-a46677cf37b0",
   "metadata": {},
   "outputs": [],
   "source": [
    "# Suppression des colonnes entièrement vides\n",
    "df_sector_employed_clean = df_sector_employed.drop(\n",
    "    ['education', 'urban_rural', 'informal_formal'], axis=1\n",
    ")\n",
    "\n",
    "# Renommage pour plus de clarté\n",
    "df_sector_employed_clean = df_sector_employed_clean.rename(columns={\n",
    "    'population': 'employed_population'\n",
    "})"
   ]
  },
  {
   "cell_type": "code",
   "execution_count": 10,
   "id": "8b2638da-1d1c-437a-a79b-9bb3773c56d8",
   "metadata": {},
   "outputs": [],
   "source": [
    "# Suppression des colonnes non renseignées ou redondantes\n",
    "df_rural_urban_clean = df_rural_urban.drop(\n",
    "    ['education', 'sector', 'sector_group', 'informal'], axis=1\n",
    ")\n",
    "\n",
    "# Renommage pour clarté\n",
    "df_rural_urban_clean = df_rural_urban_clean.rename(columns={\n",
    "    'population': 'rural_urban_employed_population'\n",
    "})"
   ]
  },
  {
   "cell_type": "markdown",
   "id": "2996eac9-e2c3-4135-9b4f-ace2fec6de23",
   "metadata": {},
   "source": [
    "# NB : Il faut exécuter toutes les cellules pour que les graphiques apparaissent (ils sont interactifs).\n",
    "# Auusi, il faut sélectionner Sénégal sur la liste déroulante des pays car les analyses ne sont faites que pour les graphiques de ce pays."
   ]
  },
  {
   "cell_type": "markdown",
   "id": "318e163c-8caa-4d37-b93d-a197ab39f8b4",
   "metadata": {},
   "source": [
    "# 3. Analyse exploratoire des données (EDA)"
   ]
  },
  {
   "cell_type": "code",
   "execution_count": 13,
   "id": "280601c7-18f9-4c17-b3e1-7d86a8821db5",
   "metadata": {},
   "outputs": [
    {
     "data": {
      "application/vnd.jupyter.widget-view+json": {
       "model_id": "027dd5c94ab84152929cf18e06ec660a",
       "version_major": 2,
       "version_minor": 0
      },
      "text/plain": [
       "interactive(children=(Dropdown(description='Pays', options=('Tous les pays', 'Algeria', 'Angola', 'Benin', 'Bo…"
      ]
     },
     "metadata": {},
     "output_type": "display_data"
    }
   ],
   "source": [
    "import pandas as pd\n",
    "import plotly.express as px\n",
    "from ipywidgets import interact, Dropdown\n",
    "\n",
    "# Harmonisation du nom de colonne si nécessaire\n",
    "df_education_combined_clean = df_education_combined_clean.rename(columns={\"sex\": \"gender\"})\n",
    "\n",
    "# Liste des pays avec option \"Tous\"\n",
    "pays_liste = [\"Tous les pays\"] + sorted(df_education_combined_clean[\"country\"].dropna().unique().tolist())\n",
    "\n",
    "@interact(\n",
    "    country=Dropdown(options=pays_liste, description=\"Pays\")\n",
    ")\n",
    "def graphique_education_par_genre_sans_statut(country):\n",
    "    df_filtre = df_education_combined_clean.copy()\n",
    "\n",
    "    if country != \"Tous les pays\":\n",
    "        df_filtre = df_filtre[df_filtre[\"country\"] == country]\n",
    "\n",
    "    # Agrégation\n",
    "    df_agg = df_filtre.groupby([\"education_level\", \"gender\"], as_index=False)[\"population\"].sum()\n",
    "\n",
    "    # Ordres explicites\n",
    "    df_agg[\"education_level\"] = pd.Categorical(\n",
    "        df_agg[\"education_level\"],\n",
    "        categories=[\"no education\", \"primary\", \"secondary\", \"tertiary\"],\n",
    "        ordered=True\n",
    "    )\n",
    "    df_agg[\"gender\"] = pd.Categorical(\n",
    "        df_agg[\"gender\"],\n",
    "        categories=[\"female\", \"male\"],\n",
    "        ordered=True\n",
    "    )\n",
    "\n",
    "    # Graphique\n",
    "    fig = px.bar(\n",
    "        df_agg,\n",
    "        x=\"education_level\",\n",
    "        y=\"population\",\n",
    "        color=\"gender\",\n",
    "        text_auto=\".2s\",\n",
    "        barmode=\"group\",\n",
    "        title=f\"Répartition des jeunes par niveau d’éducation et genre – {country if country != 'Tous les pays' else 'Tous pays'}\",\n",
    "        labels={\n",
    "            \"education_level\": \"Niveau d'éducation\",\n",
    "            \"population\": \"Nombre de personnes\",\n",
    "            \"gender\": \"Genre\"\n",
    "        },\n",
    "        color_discrete_sequence=[\"#EF553B\", \"#636EFA\"]\n",
    "    )\n",
    "\n",
    "    fig.update_layout(\n",
    "        xaxis_title=\"Niveau d'éducation\",\n",
    "        yaxis_title=\"Nombre de personnes\",\n",
    "        title_font_size=16,\n",
    "        legend_title=\"Genre\",\n",
    "        uniformtext_minsize=10,\n",
    "        uniformtext_mode='hide'\n",
    "    )\n",
    "\n",
    "    fig.show()"
   ]
  },
  {
   "cell_type": "raw",
   "id": "d59402a4-fc01-465a-b82e-55c492c3b353",
   "metadata": {},
   "source": [
    "*****Analyse du graphique pour le Sénégal****\n",
    "\n",
    "*** Enseignements clés :\n",
    "\n",
    "1. Les femmes sont majoritaires aux niveaux primaire et secondaire. Elles sont plus nombreuses que les hommes jusqu’au secondaire inclus.\n",
    "Cela confirme une forte progression de la scolarisation féminine de base, probablement liée aux politiques d'accès à l’éducation universelle.\n",
    "\n",
    "2. Décrochage féminin net au niveau supérieur, seulement 1 million de femmes ont accédé au supérieur, contre 1,5 million d’hommes.\n",
    "Cela marque une inversion brutale de tendance : les femmes sortent du système éducatif avant l’université ou y accèdent moins.\n",
    "Causes possibles : Mariage précoce, normes sociales, coûts d’opportunité familiaux, faible accès aux filières scientifiques ou techniques.\n",
    "\n",
    "3. Le secondaire est une charnière stratégique. C’est le niveau où les deux genres sont le plus représentés (~21M cumulés).\n",
    "Il représente un levier essentiel pour les politiques d’insertion, d’orientation ou de transition vers l’emploi.\n",
    "\n",
    "Implications stratégiques :\n",
    "    - Transformer les parcours scolaires en opportunités économiques :\n",
    "    - Les femmes doivent être soutenues au-delà du secondaire pour éviter qu’elles ne sortent du système juste avant les niveaux les plus rémunérateurs.\n",
    "    - Accès au supérieur = clé de réduction des inégalités futures :\n",
    "    - Favoriser les passerelles, les bourses ciblées, les internats pour jeunes filles rurales, etc.\n",
    "    - Le volume important de diplômés du secondaire exige une stratégie claire de débouchés : apprentissage, filières pro, orientation vers les secteurs en tension."
   ]
  },
  {
   "cell_type": "code",
   "execution_count": 14,
   "id": "09bc511f-86ab-4293-923e-d82a640dd2c2",
   "metadata": {},
   "outputs": [
    {
     "data": {
      "application/vnd.jupyter.widget-view+json": {
       "model_id": "1d90b8d2c8e44df185bd80575e74856e",
       "version_major": 2,
       "version_minor": 0
      },
      "text/plain": [
       "interactive(children=(Dropdown(description='Pays', options=('Tous les pays', 'Algeria', 'Angola', 'Benin', 'Bo…"
      ]
     },
     "metadata": {},
     "output_type": "display_data"
    }
   ],
   "source": [
    "# Liste pour le filtre pays\n",
    "pays_liste = [\"Tous les pays\"] + sorted(df_education_combined_clean[\"country\"].dropna().unique().tolist())\n",
    "\n",
    "@interact(\n",
    "    country=Dropdown(options=pays_liste, description=\"Pays\")\n",
    ")\n",
    "def graphique_statut_par_genre(country):\n",
    "    df_filtre = df_education_combined_clean.copy()\n",
    "\n",
    "    # Filtrage pays\n",
    "    if country != \"Tous les pays\":\n",
    "        df_filtre = df_filtre[df_filtre[\"country\"] == country]\n",
    "\n",
    "    # Agrégation par statut et genre\n",
    "    df_statut = df_filtre.groupby([\"status\", \"gender\"], as_index=False)[\"population\"].sum()\n",
    "    \n",
    "    # Ordre souhaité\n",
    "    statut_order = [\"student\", \"inactive\", \"unemployed\"]\n",
    "    df_statut[\"status\"] = pd.Categorical(df_statut[\"status\"], categories=statut_order, ordered=True)\n",
    "    df_statut[\"gender\"] = pd.Categorical(df_statut[\"gender\"], categories=[\"female\", \"male\"], ordered=True)\n",
    "\n",
    "    # Graphique\n",
    "    fig = px.bar(\n",
    "        df_statut,\n",
    "        x=\"status\",\n",
    "        y=\"population\",\n",
    "        color=\"gender\",\n",
    "        text_auto=\".2s\",\n",
    "        barmode=\"group\",\n",
    "        title=f\"Répartition des jeunes (15–35 ans) par statut d'activité et genre – {country if country != 'Tous les pays' else 'Tous pays'}\",\n",
    "        labels={\n",
    "            \"status\": \"Statut d'activité\",\n",
    "            \"population\": \"Nombre de personnes\",\n",
    "            \"gender\": \"Genre\"\n",
    "        },\n",
    "        color_discrete_sequence=[\"#EF553B\", \"#636EFA\"]\n",
    "    )\n",
    "\n",
    "    fig.update_layout(\n",
    "        xaxis_title=\"Statut d'activité\",\n",
    "        yaxis_title=\"Nombre de personnes\",\n",
    "        title_font_size=16,\n",
    "        legend_title=\"Genre\",\n",
    "        uniformtext_minsize=10,\n",
    "        uniformtext_mode='hide'\n",
    "    )\n",
    "\n",
    "    fig.show()"
   ]
  },
  {
   "cell_type": "raw",
   "id": "7c3e82f4-83c9-4a8b-84ef-4dd171773c01",
   "metadata": {},
   "source": [
    "*****Analyse du graphique pour le Sénégal****\n",
    "\n",
    "*** Enseignements clés :\n",
    "\n",
    "1. Les femmes sont massivement inactives. Elles représentent plus du double des hommes dans la catégorie \"inactive\".\n",
    "Cela confirme leur marginalisation économique structurelle.\n",
    "Interprétation : Barrières sociales, responsabilités domestiques, absence d’accès aux opportunités productives.\n",
    "\n",
    "2. Les femmes sont autant étudiantes que les hommes. La population étudiante est quasiment équilibrée entre les genres (~11M vs ~12M).\n",
    "Cela montre que l'accès à l'éducation s'est amélioré, mais ne garantit pas l’emploi par la suite.\n",
    "\n",
    "3. Le chômage masculin est plus élevé que le chômage féminin. Plus d’1,1 million de jeunes hommes au chômage contre 790k femmes.\n",
    "Cela ne signifie pas une meilleure insertion féminine, mais souvent que les femmes ne sont même pas comptabilisées comme actives → elles sortent des radars statistiques.\n",
    "Implication : les politiques ciblant uniquement le chômage ratent une part majeure de la population féminine.\n",
    "\n",
    "Implications stratégiques :\n",
    "Pour réduire l’inactivité des femmes, il ne suffit pas d’élargir l’accès au travail :\n",
    "→ il faut réduire les obstacles structurels : garde d’enfants, mobilité, formation adaptée, sécurité.\n",
    "Pour les jeunes diplômés (hommes et femmes), il faut renforcer les dispositifs d’insertion, car le stock d’étudiants est élevé mais débouche sur peu de création d’emploi."
   ]
  },
  {
   "cell_type": "code",
   "execution_count": 15,
   "id": "855ef0c4-356e-4a08-b593-06106090e00c",
   "metadata": {},
   "outputs": [
    {
     "data": {
      "application/vnd.jupyter.widget-view+json": {
       "model_id": "919bbe1fe5064e178efdd61d0ac46e0b",
       "version_major": 2,
       "version_minor": 0
      },
      "text/plain": [
       "interactive(children=(Dropdown(description='Pays', options=('Tous les pays', 'Algeria', 'Angola', 'Benin', 'Bo…"
      ]
     },
     "metadata": {},
     "output_type": "display_data"
    }
   ],
   "source": [
    "# Palette de couleurs cohérente\n",
    "custom_colors = {\n",
    "    \"student\": \"#2ca02c\",    # vert\n",
    "    \"inactive\": \"#ffcc00\",   # jaune\n",
    "    \"unemployed\": \"#d62728\"  # rouge\n",
    "}\n",
    "\n",
    "# Liste des pays\n",
    "pays_liste = [\"Tous les pays\"] + sorted(df_education_combined_clean[\"country\"].dropna().unique().tolist())\n",
    "\n",
    "@interact(\n",
    "    country=Dropdown(options=pays_liste, description=\"Pays\")\n",
    ")\n",
    "def graph_education_statut_par_pays(country):\n",
    "    # Filtrage\n",
    "    df_filtre = df_education_combined_clean.copy()\n",
    "    if country != \"Tous les pays\":\n",
    "        df_filtre = df_filtre[df_filtre[\"country\"] == country]\n",
    "\n",
    "    # Agrégation\n",
    "    df_edu_status = df_filtre.groupby([\"education_level\", \"status\"])[\"population\"].sum().reset_index()\n",
    "\n",
    "    # Ordres d’affichage\n",
    "    education_order = [\"no education\", \"no\", \"primary\", \"secondary\", \"tertiary\"]\n",
    "    status_order = [\"student\", \"inactive\", \"unemployed\"]\n",
    "    df_edu_status[\"education_level\"] = pd.Categorical(df_edu_status[\"education_level\"], categories=education_order, ordered=True)\n",
    "    df_edu_status[\"status\"] = pd.Categorical(df_edu_status[\"status\"], categories=status_order, ordered=True)\n",
    "\n",
    "    # Barres empilées\n",
    "    fig = px.bar(\n",
    "        df_edu_status,\n",
    "        x=\"population\",\n",
    "        y=\"education_level\",\n",
    "        color=\"status\",\n",
    "        orientation=\"h\",\n",
    "        text_auto=\".2s\",\n",
    "        barmode=\"stack\",\n",
    "        title=f\"Répartition empilée des jeunes (15–35 ans) par niveau d’éducation – {country}\",\n",
    "        color_discrete_map=custom_colors\n",
    "    )\n",
    "\n",
    "    fig.update_layout(\n",
    "        xaxis_title=\"Nombre de personnes\",\n",
    "        yaxis_title=\"Niveau d'éducation\",\n",
    "        title_font_size=18,\n",
    "        legend_title_text=\"Statut\",\n",
    "        uniformtext_minsize=10,\n",
    "        uniformtext_mode='hide'\n",
    "    )\n",
    "\n",
    "    fig.show()"
   ]
  },
  {
   "cell_type": "raw",
   "id": "d8b4634c-66d2-4612-8a36-801439c8c95f",
   "metadata": {},
   "source": [
    "*****Analyse du graphique pour le Sénégal****\n",
    "\n",
    "*** Enseignements clés :\n",
    "\n",
    "1. Les inactifs sont majoritaires à tous les niveaux sauf dans le secondaire.\n",
    "No education : 20M inactifs → ≈ 92 % hors du marché du travail.\n",
    "Primary : encore 6.3M inactifs (très élevé).\n",
    "Tertiary : même au plus haut niveau, 1.3M jeunes inactifs = signal alarmant.\n",
    "Conclusion : Inactivité = problème systémique, pas seulement scolaire.\n",
    "\n",
    "2. Le secondaire concentre le plus d’étudiants (12M). Ce niveau est la grande chambre d’attente du système éducatif sénégalais.\n",
    "Cela reflète :\n",
    "    - Une massification de l’éducation,\n",
    "    - Mais aussi un goulot d’étranglement vers le supérieur ou l’emploi.\n",
    "Implication : Nécessité de réorienter ou professionnaliser les parcours à ce stade (alternance, technique, agro, artisanat, etc.).\n",
    "\n",
    "3. Le chômage des diplômés augmente avec le niveau d’étude :\n",
    "    - 350k au niveau “no education” → probablement du sous-enregistrement,\n",
    "    - 370k au niveau supérieur = plus de 20 % de la population hors étudiants.\n",
    "Conclusion : Le système de formation ne garantit pas l’insertion. Il faut construire de véritables passerelles vers l’emploi post-supérieur.\n",
    "\n",
    "4. Le système forme mais n’insère pas. Plus de 23 millions de jeunes en formation ou inactifs, contre quelques millions en emploi.\n",
    "Cela suggère une dissociation entre le capital humain produit et les capacités d’absorption du tissu économique.\n",
    "\n",
    "Recommandations :\n",
    "    - Développer les dispositifs de mobilisation (service civique, insertion locale, formation courte)\n",
    "    - Favoriser les sorties qualifiantes (CAP, apprentissage) ou l’alternance\n",
    "    - Structurer l’entrée dans l’emploi avec stages, incubateurs, bourses entrepreneuriales\n",
    "    - Recommendation : Créer des observatoires régionaux des compétences et débouchés locaux"
   ]
  },
  {
   "cell_type": "code",
   "execution_count": 16,
   "id": "d815c201-b393-402a-b436-186a799dfd0d",
   "metadata": {},
   "outputs": [
    {
     "data": {
      "application/vnd.jupyter.widget-view+json": {
       "model_id": "9d8ccb40826a45618aa5925d75e6204b",
       "version_major": 2,
       "version_minor": 0
      },
      "text/plain": [
       "interactive(children=(Dropdown(description='Pays', options=('Tous les pays', 'Algeria', 'Angola', 'Benin', 'Bo…"
      ]
     },
     "metadata": {},
     "output_type": "display_data"
    }
   ],
   "source": [
    "# Liste des pays\n",
    "pays_liste = [\"Tous les pays\"] + sorted(df_sector_employed_clean[\"country\"].dropna().unique().tolist())\n",
    "\n",
    "@interact(\n",
    "    country=Dropdown(options=pays_liste, description=\"Pays\")\n",
    ")\n",
    "def repartition_par_secteur_et_genre(country):\n",
    "    # Filtrage\n",
    "    df_filtre = df_sector_employed_clean.copy()\n",
    "    if country != \"Tous les pays\":\n",
    "        df_filtre = df_filtre[df_filtre[\"country\"] == country]\n",
    "\n",
    "    # Agrégation\n",
    "    df_sector_gender = df_filtre.groupby([\"sector_group\", \"gender\"])[\"employed_population\"].sum().reset_index()\n",
    "\n",
    "    # Ordre du genre\n",
    "    df_sector_gender[\"gender\"] = pd.Categorical(df_sector_gender[\"gender\"], categories=[\"female\", \"male\"], ordered=True)\n",
    "\n",
    "    # Graphique\n",
    "    fig = px.bar(\n",
    "        df_sector_gender,\n",
    "        x=\"sector_group\",\n",
    "        y=\"employed_population\",\n",
    "        color=\"gender\",\n",
    "        barmode=\"group\",\n",
    "        text_auto=\".2s\",\n",
    "        title=f\"Répartition des jeunes employés par secteur et genre – {country}\",\n",
    "        labels={\n",
    "            \"sector_group\": \"Secteur\",\n",
    "            \"employed_population\": \"Nombre de personnes\",\n",
    "            \"gender\": \"Genre\"\n",
    "        },\n",
    "        color_discrete_sequence=[\"#636EFA\", \"#EF553B\"]\n",
    "    )\n",
    "\n",
    "    fig.update_layout(\n",
    "        title_font_size=18,\n",
    "        xaxis_title=\"Secteurs d’activité (regroupés)\",\n",
    "        yaxis_title=\"Nombre de personnes\",\n",
    "        legend_title=\"Genre\",\n",
    "        uniformtext_minsize=10,\n",
    "        uniformtext_mode='hide'\n",
    "    )\n",
    "\n",
    "    fig.show()"
   ]
  },
  {
   "cell_type": "raw",
   "id": "6ef65aac-a540-4bcf-a3ac-67e2567060e5",
   "metadata": {},
   "source": [
    "*****Analyse du graphique pour le Sénégal****\n",
    "\n",
    "*** Enseignements clés :\n",
    "\n",
    "1. L’agriculture reste un secteur fortement masculinisé.\n",
    "6.8M hommes contre seulement 2.6M femmes : plus de 70 % des jeunes actifs agricoles sont des hommes.\n",
    "Cela reflète des contraintes d’accès des femmes aux terres, équipements, intrants, financements agricoles.\n",
    "Implication : les politiques agricoles doivent intégrer un axe genre pour réduire cet écart (crédit rural féminin, coopératives inclusives…).\n",
    "\n",
    "2. L’industrie est le secteur le plus déséquilibré. 9.1M hommes contre seulement 1.9M femmes.\n",
    "Cela confirme que les femmes sont massivement exclues des filières techniques ou industrielles, souvent réservées aux hommes dès l’orientation scolaire.\n",
    "Conséquence : urgence à :\n",
    "    - Renforcer la mixité dans la formation professionnelle\n",
    "    - Favoriser l’entrée des femmes dans l’industrie (textile, agrotransformation, BTP vert, etc.)\n",
    "\n",
    "3. Les services sont le secteur le plus paritaire. 11M femmes vs 13M hommes : écart réduit comparé aux autres secteurs.\n",
    "\n",
    "Cela reflète le rôle important des femmes dans :\n",
    "    - Le commerce,\n",
    "    - L’administration,\n",
    "    - La santé, l’éducation,\n",
    "    - Et les services informels (restauration, coiffure…).\n",
    "Implication : les services constituent le principal vecteur d’inclusion féminine dans l’emploi → il faut structurer ces métiers (sécurité sociale, accompagnement, numérisation…).\n",
    "\n",
    "Recommendations :\n",
    "    - Intégrer des quotas de genre dans la formation technique, appuyer les PME féminines industrielles\n",
    "    - Faciliter l'accès des jeunes femmes à la terre, au foncier, au conseil agricole\n",
    "    - Renforcer la qualité, la sécurité et la formalisation des emplois de service féminins"
   ]
  },
  {
   "cell_type": "code",
   "execution_count": 17,
   "id": "6b29e2f9-da9e-4410-8159-1677f08ea72a",
   "metadata": {},
   "outputs": [
    {
     "data": {
      "application/vnd.jupyter.widget-view+json": {
       "model_id": "5c4737b57d0445d3a4bdaeaa85ecc9ed",
       "version_major": 2,
       "version_minor": 0
      },
      "text/plain": [
       "interactive(children=(Dropdown(description='Pays', options=('Tous les pays', 'Algeria', 'Angola', 'Benin', 'Bo…"
      ]
     },
     "metadata": {},
     "output_type": "display_data"
    }
   ],
   "source": [
    "# Liste des pays\n",
    "pays_liste = [\"Tous les pays\"] + sorted(df_rural_urban_clean[\"country\"].dropna().unique().tolist())\n",
    "\n",
    "# Standardisation de la casse pour les zones géographiques\n",
    "df_rural_urban_clean[\"urban\"] = df_rural_urban_clean[\"urban\"].str.capitalize()\n",
    "\n",
    "@interact(\n",
    "    country=Dropdown(options=pays_liste, description=\"Pays\")\n",
    ")\n",
    "def repartition_zone_genre(country):\n",
    "    df_filtre = df_rural_urban_clean.copy()\n",
    "    if country != \"Tous les pays\":\n",
    "        df_filtre = df_filtre[df_filtre[\"country\"] == country]\n",
    "\n",
    "    # Filtrage des jeunes employés uniquement\n",
    "    df_urban_zone = df_filtre[df_filtre[\"status\"] == \"employed\"]\n",
    "\n",
    "    # Agrégation\n",
    "    df_zone_gender = df_urban_zone.groupby([\"urban\", \"gender\"])[\"rural_urban_employed_population\"].sum().reset_index()\n",
    "    df_zone_gender[\"gender\"] = pd.Categorical(df_zone_gender[\"gender\"], categories=[\"female\", \"male\"], ordered=True)\n",
    "\n",
    "    # Graphique\n",
    "    fig = px.bar(\n",
    "        df_zone_gender,\n",
    "        x=\"urban\",\n",
    "        y=\"rural_urban_employed_population\",\n",
    "        color=\"gender\",\n",
    "        barmode=\"group\",\n",
    "        text_auto=\".2s\",\n",
    "        title=f\"Répartition des jeunes employés par zone géographique et genre – {country}\",\n",
    "        labels={\n",
    "            \"urban\": \"Zone (urbaine ou rurale)\",\n",
    "            \"rural_urban_employed_population\": \"Nombre de personnes\",\n",
    "            \"gender\": \"Genre\"\n",
    "        },\n",
    "        color_discrete_sequence=[\"#636EFA\", \"#EF553B\"]\n",
    "    )\n",
    "\n",
    "    fig.update_layout(\n",
    "        title_font_size=18,\n",
    "        xaxis_title=\"Zone géographique\",\n",
    "        yaxis_title=\"Nombre de personnes\",\n",
    "        legend_title=\"Genre\",\n",
    "        uniformtext_minsize=10,\n",
    "        uniformtext_mode='hide'\n",
    "    )\n",
    "\n",
    "    fig.show()"
   ]
  },
  {
   "cell_type": "raw",
   "id": "3f7e5258-aadb-445d-8a2e-74c6c9a972c1",
   "metadata": {},
   "source": [
    "*****Analyse du graphique pour le Sénégal****\n",
    "\n",
    "*** Enseignements clés :\n",
    "\n",
    "1. Les hommes dominent l’emploi aussi bien en zone urbaine que rurale.\n",
    "    - En rural : 13M hommes contre 7.6M femmes → écart de 5.4M\n",
    "    - En urbain : 15M hommes contre 8.4M femmes → écart de 6.6M\n",
    "Les écarts sont comparables en valeur absolue, mais plus marqués proportionnellement en zone rurale.\n",
    "\n",
    "2. Les zones urbaines concentrent plus d’emplois, surtout pour les hommes.\n",
    "    - Emplois urbains hommes = 15M\n",
    "    - Emplois ruraux hommes = 13M\n",
    "Cela reflète la polarisation de l’économie nationale sur les centres urbains (Dakar, Thiès, etc.)\n",
    "\n",
    "3. Les femmes rurales sont sous-représentées dans l’emploi.\n",
    "À peine 7.6M jeunes femmes rurales en emploi, contre 8.4M en ville → alors que la majorité des femmes vivent en zone rurale.\n",
    "Cela révèle une exclusion géographique des femmes rurales de l’économie formelle.\n",
    "Implication : elles restent cantonnées à des rôles non reconnus statistiquement (travail domestique, informel invisible…).\n",
    "\n",
    "Recommandations :\n",
    "    - Programmes de développement économique local ciblant les femmes (ex : coopératives, services décentralisés, accès au microcrédit)\n",
    "    - Mise en place d’une stratégie nationale de décentralisation économique (zones d’activités rurales, formation mobile, infrastructures locales)\n",
    "    - Intégrer une approche territorialisée et genrée dans les plans d’emploi nationaux"
   ]
  },
  {
   "cell_type": "code",
   "execution_count": 18,
   "id": "ae5b8f9f-086b-4a68-9806-f074277450f5",
   "metadata": {},
   "outputs": [
    {
     "data": {
      "application/vnd.jupyter.widget-view+json": {
       "model_id": "8b31dd7493074188baad362cbc7d7995",
       "version_major": 2,
       "version_minor": 0
      },
      "text/plain": [
       "interactive(children=(Dropdown(description='Pays', options=('Tous les pays', 'Algeria', 'Angola', 'Benin', 'Bo…"
      ]
     },
     "metadata": {},
     "output_type": "display_data"
    }
   ],
   "source": [
    "# Liste des pays avec option \"Tous\"\n",
    "pays_liste = [\"Tous les pays\"] + sorted(df_sector_employed_clean[\"country\"].dropna().unique().tolist())\n",
    "\n",
    "@interact(country=Dropdown(options=pays_liste, description=\"Pays\"))\n",
    "def top10_secteurs_jeunes_par_genre(country):\n",
    "    # Filtrage conditionnel\n",
    "    if country == \"Tous les pays\":\n",
    "        df_filtre = df_sector_employed_clean.copy()\n",
    "    else:\n",
    "        df_filtre = df_sector_employed_clean[df_sector_employed_clean[\"country\"] == country]\n",
    "\n",
    "    # Agrégation par secteur et genre\n",
    "    df_sector_genre = df_filtre.groupby([\"sector\", \"gender\"])[\"employed_population\"].sum().reset_index()\n",
    "\n",
    "    # Sélection des 10 secteurs avec le plus de jeunes employés (tous genres confondus)\n",
    "    top_secteurs = (\n",
    "        df_sector_genre.groupby(\"sector\")[\"employed_population\"]\n",
    "        .sum().sort_values(ascending=False)\n",
    "        .head(10).index.tolist()\n",
    "    )\n",
    "\n",
    "    # Filtrer les données sur ces secteurs\n",
    "    df_top10 = df_sector_genre[df_sector_genre[\"sector\"].isin(top_secteurs)]\n",
    "\n",
    "    # Ordre Y pour affichage clair\n",
    "    ordre_secteurs = (\n",
    "        df_top10.groupby(\"sector\")[\"employed_population\"]\n",
    "        .sum().sort_values().index.tolist()\n",
    "    )\n",
    "\n",
    "    # Graphique groupé avec légende genre\n",
    "    fig = px.bar(\n",
    "        df_top10,\n",
    "        x=\"employed_population\",\n",
    "        y=\"sector\",\n",
    "        color=\"gender\",\n",
    "        orientation=\"h\",\n",
    "        text=\"employed_population\",\n",
    "        category_orders={\"sector\": ordre_secteurs},\n",
    "        title=f\"Top 10 des secteurs employant les jeunes (15–35 ans), par genre – {country}\",\n",
    "        labels={\n",
    "            \"employed_population\": \"Nombre de jeunes employés\",\n",
    "            \"sector\": \"Secteur d'activité\",\n",
    "            \"gender\": \"Genre\"\n",
    "        },\n",
    "        color_discrete_sequence=[\"#636EFA\", \"#EF553B\"] \n",
    "    )\n",
    "\n",
    "    fig.update_traces(textposition=\"inside\")\n",
    "    fig.update_layout(\n",
    "        title_font_size=18,\n",
    "        xaxis_title=\"Nombre de jeunes employés\",\n",
    "        yaxis_title=\"Secteurs\",\n",
    "        bargap=0.25,\n",
    "        uniformtext_minsize=8,\n",
    "        uniformtext_mode='hide',\n",
    "        legend_title=\"Genre\"\n",
    "    )\n",
    "\n",
    "    fig.show()"
   ]
  },
  {
   "cell_type": "raw",
   "id": "d138434b-39d4-4b44-85f0-b22849ab36eb",
   "metadata": {},
   "source": [
    "*****Analyse du graphique pour le Sénégal****\n",
    "\n",
    "*** Enseignements clés :\n",
    "\n",
    "1. Le commerce est le 1er secteur d’emploi des jeunes – surtout pour les femmes.\n",
    "Le secteur “Wholesale and retail trade” dépasse 10 millions d’emplois jeunes, avec une représentation très équilibrée.\n",
    "C’est un point d’entrée majeur pour les femmes dans le marché du travail formel ou informel (marché, boutiques, cosmétique…).\n",
    "Implication : Formaliser et sécuriser l’emploi dans ce secteur pourrait avoir un fort effet d’inclusion économique féminine.\n",
    "\n",
    "2. L’industrie manufacturière reste très masculine. Plus de 6 millions d’hommes, contre ~2M de femmes.\n",
    "Cela confirme que les femmes accèdent très peu à la production industrielle, faute de formation adaptée ou d’infrastructures d’accueil (garderies, sécurité…).\n",
    "Action possible : quotas d’accès à la formation technique, usines intégrant les besoins des femmes (sanitaires, transport, etc.).\n",
    "\n",
    "3. Le secteur de l’éducation reste minoritaire mais relativement féminisé.\n",
    "C’est l’un des seuls secteurs où la proportion de femmes dépasse ou rejoint celle des hommes.\n",
    "Cela reflète une certaine segmentation genrée des métiers : soin, éducation, social.\n",
    "Conclusion : Ce sont des secteurs clés pour l’emploi féminin qualifié, mais encore peu rémunérateurs ou valorisés.\n",
    "\n",
    "4. L’agriculture reste un pilier, mais inégalitaire. Très masculinisé (~2 à 3 fois plus d’hommes que de femmes).\n",
    "Pourtant, les femmes contribuent massivement à l’agriculture familiale, mais de façon non reconnue statistiquement.\n",
    "Implication : Urgence à visibiliser le travail agricole féminin, faciliter l’accès au foncier, et les intégrer dans les programmes de modernisation.\n",
    "\n",
    "5. Les “autres services” absorbent un grand volume, surtout féminin.\n",
    "Ces services englobent souvent des métiers précaires : aides à domicile, coiffure, restauration rapide, etc.\n",
    "Ils sont peu formalisés mais à fort potentiel de création d’emploi, surtout en zone urbaine.\n",
    "\n",
    "Recommandations transversales :\n",
    "Emplois jeunes concentrés sur quelques secteurs peu formels\t: Créer des ponts vers la formation certifiante (apprentissage, CAP, métiers du digital et du care)\n",
    "Fortes inégalités de genre par secteur\t: Déployer des politiques sectorielles genrées : quotas, incitations fiscales, microcrédit ciblé\n",
    "Faible présence féminine en industrie et construction : Encourager les femmes à intégrer les secteurs en tension par la formation technique et l'entrepreneuriat"
   ]
  },
  {
   "cell_type": "code",
   "execution_count": 19,
   "id": "a73588f7-ddc5-4ffe-afea-2293f1af76e6",
   "metadata": {},
   "outputs": [
    {
     "data": {
      "application/vnd.plotly.v1+json": {
       "config": {
        "plotlyServerURL": "https://plot.ly"
       },
       "data": [
        {
         "coloraxis": "coloraxis",
         "geo": "geo",
         "hovertemplate": "country=%{location}<br>Nombre de jeunes employés=%{z}<extra></extra>",
         "locationmode": "country names",
         "locations": [
          "Algeria",
          "Angola",
          "Benin",
          "Botswana",
          "Burkina Faso",
          "Burundi",
          "Cabo Verde",
          "Cameroon",
          "Central African Republic",
          "Chad",
          "Comoros",
          "Congo",
          "Congo, Democratic Republic of the",
          "Côte d'Ivoire",
          "Djibouti",
          "Egypt",
          "Equatorial Guinea",
          "Eritrea",
          "Eswatini",
          "Ethiopia",
          "Gabon",
          "Gambia",
          "Ghana",
          "Guinea",
          "Guinea-Bissau",
          "Kenya",
          "Lesotho",
          "Liberia",
          "Libya",
          "Madagascar",
          "Malawi",
          "Mali",
          "Mauritania",
          "Mauritius",
          "Morocco",
          "Mozambique",
          "Namibia",
          "Niger",
          "Nigeria",
          "Rwanda",
          "Sao Tome and Principe",
          "Senegal",
          "Sierra Leone",
          "Somalia",
          "South Africa",
          "South Sudan",
          "Sudan",
          "Tanzania, United Republic of",
          "Togo",
          "Tunisia",
          "Uganda",
          "Western Sahara",
          "Zambia",
          "Zimbabwe"
         ],
         "name": "",
         "type": "choropleth",
         "z": [
          66990018,
          121241746,
          38156026,
          6108572,
          72673972,
          49105502,
          1341225,
          97576805,
          19034089,
          52480462,
          1616789,
          14482265,
          277222814,
          91268397,
          1137394,
          187444402,
          3270830,
          23525902,
          2872788,
          479923184,
          3687961,
          7299026,
          103740790,
          35152585,
          5638758,
          185308203,
          6953874,
          21040581,
          10635235,
          136721004,
          78296495,
          75674239,
          8823726,
          2720545,
          66653849,
          136691486,
          6441460,
          95075220,
          733868804,
          34941275,
          405189,
          44511958,
          22270930,
          21197005,
          114984150,
          51860213,
          84993349,
          291478840,
          22585058,
          18962055,
          182946861,
          1545129,
          57662734,
          63049530
         ]
        }
       ],
       "layout": {
        "autosize": true,
        "coloraxis": {
         "colorbar": {
          "title": {
           "text": "Nombre de jeunes employés"
          }
         },
         "colorscale": [
          [
           0,
           "#440154"
          ],
          [
           0.1111111111111111,
           "#482878"
          ],
          [
           0.2222222222222222,
           "#3e4989"
          ],
          [
           0.3333333333333333,
           "#31688e"
          ],
          [
           0.4444444444444444,
           "#26828e"
          ],
          [
           0.5555555555555556,
           "#1f9e89"
          ],
          [
           0.6666666666666666,
           "#35b779"
          ],
          [
           0.7777777777777778,
           "#6ece58"
          ],
          [
           0.8888888888888888,
           "#b5de2b"
          ],
          [
           1,
           "#fde725"
          ]
         ]
        },
        "geo": {
         "center": {},
         "domain": {
          "x": [
           0,
           1
          ],
          "y": [
           0,
           1
          ]
         },
         "fitbounds": "locations",
         "visible": false
        },
        "legend": {
         "tracegroupgap": 0
        },
        "template": {
         "data": {
          "bar": [
           {
            "error_x": {
             "color": "#2a3f5f"
            },
            "error_y": {
             "color": "#2a3f5f"
            },
            "marker": {
             "line": {
              "color": "#E5ECF6",
              "width": 0.5
             },
             "pattern": {
              "fillmode": "overlay",
              "size": 10,
              "solidity": 0.2
             }
            },
            "type": "bar"
           }
          ],
          "barpolar": [
           {
            "marker": {
             "line": {
              "color": "#E5ECF6",
              "width": 0.5
             },
             "pattern": {
              "fillmode": "overlay",
              "size": 10,
              "solidity": 0.2
             }
            },
            "type": "barpolar"
           }
          ],
          "carpet": [
           {
            "aaxis": {
             "endlinecolor": "#2a3f5f",
             "gridcolor": "white",
             "linecolor": "white",
             "minorgridcolor": "white",
             "startlinecolor": "#2a3f5f"
            },
            "baxis": {
             "endlinecolor": "#2a3f5f",
             "gridcolor": "white",
             "linecolor": "white",
             "minorgridcolor": "white",
             "startlinecolor": "#2a3f5f"
            },
            "type": "carpet"
           }
          ],
          "choropleth": [
           {
            "colorbar": {
             "outlinewidth": 0,
             "ticks": ""
            },
            "type": "choropleth"
           }
          ],
          "contour": [
           {
            "colorbar": {
             "outlinewidth": 0,
             "ticks": ""
            },
            "colorscale": [
             [
              0,
              "#0d0887"
             ],
             [
              0.1111111111111111,
              "#46039f"
             ],
             [
              0.2222222222222222,
              "#7201a8"
             ],
             [
              0.3333333333333333,
              "#9c179e"
             ],
             [
              0.4444444444444444,
              "#bd3786"
             ],
             [
              0.5555555555555556,
              "#d8576b"
             ],
             [
              0.6666666666666666,
              "#ed7953"
             ],
             [
              0.7777777777777778,
              "#fb9f3a"
             ],
             [
              0.8888888888888888,
              "#fdca26"
             ],
             [
              1,
              "#f0f921"
             ]
            ],
            "type": "contour"
           }
          ],
          "contourcarpet": [
           {
            "colorbar": {
             "outlinewidth": 0,
             "ticks": ""
            },
            "type": "contourcarpet"
           }
          ],
          "heatmap": [
           {
            "colorbar": {
             "outlinewidth": 0,
             "ticks": ""
            },
            "colorscale": [
             [
              0,
              "#0d0887"
             ],
             [
              0.1111111111111111,
              "#46039f"
             ],
             [
              0.2222222222222222,
              "#7201a8"
             ],
             [
              0.3333333333333333,
              "#9c179e"
             ],
             [
              0.4444444444444444,
              "#bd3786"
             ],
             [
              0.5555555555555556,
              "#d8576b"
             ],
             [
              0.6666666666666666,
              "#ed7953"
             ],
             [
              0.7777777777777778,
              "#fb9f3a"
             ],
             [
              0.8888888888888888,
              "#fdca26"
             ],
             [
              1,
              "#f0f921"
             ]
            ],
            "type": "heatmap"
           }
          ],
          "heatmapgl": [
           {
            "colorbar": {
             "outlinewidth": 0,
             "ticks": ""
            },
            "colorscale": [
             [
              0,
              "#0d0887"
             ],
             [
              0.1111111111111111,
              "#46039f"
             ],
             [
              0.2222222222222222,
              "#7201a8"
             ],
             [
              0.3333333333333333,
              "#9c179e"
             ],
             [
              0.4444444444444444,
              "#bd3786"
             ],
             [
              0.5555555555555556,
              "#d8576b"
             ],
             [
              0.6666666666666666,
              "#ed7953"
             ],
             [
              0.7777777777777778,
              "#fb9f3a"
             ],
             [
              0.8888888888888888,
              "#fdca26"
             ],
             [
              1,
              "#f0f921"
             ]
            ],
            "type": "heatmapgl"
           }
          ],
          "histogram": [
           {
            "marker": {
             "pattern": {
              "fillmode": "overlay",
              "size": 10,
              "solidity": 0.2
             }
            },
            "type": "histogram"
           }
          ],
          "histogram2d": [
           {
            "colorbar": {
             "outlinewidth": 0,
             "ticks": ""
            },
            "colorscale": [
             [
              0,
              "#0d0887"
             ],
             [
              0.1111111111111111,
              "#46039f"
             ],
             [
              0.2222222222222222,
              "#7201a8"
             ],
             [
              0.3333333333333333,
              "#9c179e"
             ],
             [
              0.4444444444444444,
              "#bd3786"
             ],
             [
              0.5555555555555556,
              "#d8576b"
             ],
             [
              0.6666666666666666,
              "#ed7953"
             ],
             [
              0.7777777777777778,
              "#fb9f3a"
             ],
             [
              0.8888888888888888,
              "#fdca26"
             ],
             [
              1,
              "#f0f921"
             ]
            ],
            "type": "histogram2d"
           }
          ],
          "histogram2dcontour": [
           {
            "colorbar": {
             "outlinewidth": 0,
             "ticks": ""
            },
            "colorscale": [
             [
              0,
              "#0d0887"
             ],
             [
              0.1111111111111111,
              "#46039f"
             ],
             [
              0.2222222222222222,
              "#7201a8"
             ],
             [
              0.3333333333333333,
              "#9c179e"
             ],
             [
              0.4444444444444444,
              "#bd3786"
             ],
             [
              0.5555555555555556,
              "#d8576b"
             ],
             [
              0.6666666666666666,
              "#ed7953"
             ],
             [
              0.7777777777777778,
              "#fb9f3a"
             ],
             [
              0.8888888888888888,
              "#fdca26"
             ],
             [
              1,
              "#f0f921"
             ]
            ],
            "type": "histogram2dcontour"
           }
          ],
          "mesh3d": [
           {
            "colorbar": {
             "outlinewidth": 0,
             "ticks": ""
            },
            "type": "mesh3d"
           }
          ],
          "parcoords": [
           {
            "line": {
             "colorbar": {
              "outlinewidth": 0,
              "ticks": ""
             }
            },
            "type": "parcoords"
           }
          ],
          "pie": [
           {
            "automargin": true,
            "type": "pie"
           }
          ],
          "scatter": [
           {
            "fillpattern": {
             "fillmode": "overlay",
             "size": 10,
             "solidity": 0.2
            },
            "type": "scatter"
           }
          ],
          "scatter3d": [
           {
            "line": {
             "colorbar": {
              "outlinewidth": 0,
              "ticks": ""
             }
            },
            "marker": {
             "colorbar": {
              "outlinewidth": 0,
              "ticks": ""
             }
            },
            "type": "scatter3d"
           }
          ],
          "scattercarpet": [
           {
            "marker": {
             "colorbar": {
              "outlinewidth": 0,
              "ticks": ""
             }
            },
            "type": "scattercarpet"
           }
          ],
          "scattergeo": [
           {
            "marker": {
             "colorbar": {
              "outlinewidth": 0,
              "ticks": ""
             }
            },
            "type": "scattergeo"
           }
          ],
          "scattergl": [
           {
            "marker": {
             "colorbar": {
              "outlinewidth": 0,
              "ticks": ""
             }
            },
            "type": "scattergl"
           }
          ],
          "scattermapbox": [
           {
            "marker": {
             "colorbar": {
              "outlinewidth": 0,
              "ticks": ""
             }
            },
            "type": "scattermapbox"
           }
          ],
          "scatterpolar": [
           {
            "marker": {
             "colorbar": {
              "outlinewidth": 0,
              "ticks": ""
             }
            },
            "type": "scatterpolar"
           }
          ],
          "scatterpolargl": [
           {
            "marker": {
             "colorbar": {
              "outlinewidth": 0,
              "ticks": ""
             }
            },
            "type": "scatterpolargl"
           }
          ],
          "scatterternary": [
           {
            "marker": {
             "colorbar": {
              "outlinewidth": 0,
              "ticks": ""
             }
            },
            "type": "scatterternary"
           }
          ],
          "surface": [
           {
            "colorbar": {
             "outlinewidth": 0,
             "ticks": ""
            },
            "colorscale": [
             [
              0,
              "#0d0887"
             ],
             [
              0.1111111111111111,
              "#46039f"
             ],
             [
              0.2222222222222222,
              "#7201a8"
             ],
             [
              0.3333333333333333,
              "#9c179e"
             ],
             [
              0.4444444444444444,
              "#bd3786"
             ],
             [
              0.5555555555555556,
              "#d8576b"
             ],
             [
              0.6666666666666666,
              "#ed7953"
             ],
             [
              0.7777777777777778,
              "#fb9f3a"
             ],
             [
              0.8888888888888888,
              "#fdca26"
             ],
             [
              1,
              "#f0f921"
             ]
            ],
            "type": "surface"
           }
          ],
          "table": [
           {
            "cells": {
             "fill": {
              "color": "#EBF0F8"
             },
             "line": {
              "color": "white"
             }
            },
            "header": {
             "fill": {
              "color": "#C8D4E3"
             },
             "line": {
              "color": "white"
             }
            },
            "type": "table"
           }
          ]
         },
         "layout": {
          "annotationdefaults": {
           "arrowcolor": "#2a3f5f",
           "arrowhead": 0,
           "arrowwidth": 1
          },
          "autotypenumbers": "strict",
          "coloraxis": {
           "colorbar": {
            "outlinewidth": 0,
            "ticks": ""
           }
          },
          "colorscale": {
           "diverging": [
            [
             0,
             "#8e0152"
            ],
            [
             0.1,
             "#c51b7d"
            ],
            [
             0.2,
             "#de77ae"
            ],
            [
             0.3,
             "#f1b6da"
            ],
            [
             0.4,
             "#fde0ef"
            ],
            [
             0.5,
             "#f7f7f7"
            ],
            [
             0.6,
             "#e6f5d0"
            ],
            [
             0.7,
             "#b8e186"
            ],
            [
             0.8,
             "#7fbc41"
            ],
            [
             0.9,
             "#4d9221"
            ],
            [
             1,
             "#276419"
            ]
           ],
           "sequential": [
            [
             0,
             "#0d0887"
            ],
            [
             0.1111111111111111,
             "#46039f"
            ],
            [
             0.2222222222222222,
             "#7201a8"
            ],
            [
             0.3333333333333333,
             "#9c179e"
            ],
            [
             0.4444444444444444,
             "#bd3786"
            ],
            [
             0.5555555555555556,
             "#d8576b"
            ],
            [
             0.6666666666666666,
             "#ed7953"
            ],
            [
             0.7777777777777778,
             "#fb9f3a"
            ],
            [
             0.8888888888888888,
             "#fdca26"
            ],
            [
             1,
             "#f0f921"
            ]
           ],
           "sequentialminus": [
            [
             0,
             "#0d0887"
            ],
            [
             0.1111111111111111,
             "#46039f"
            ],
            [
             0.2222222222222222,
             "#7201a8"
            ],
            [
             0.3333333333333333,
             "#9c179e"
            ],
            [
             0.4444444444444444,
             "#bd3786"
            ],
            [
             0.5555555555555556,
             "#d8576b"
            ],
            [
             0.6666666666666666,
             "#ed7953"
            ],
            [
             0.7777777777777778,
             "#fb9f3a"
            ],
            [
             0.8888888888888888,
             "#fdca26"
            ],
            [
             1,
             "#f0f921"
            ]
           ]
          },
          "colorway": [
           "#636efa",
           "#EF553B",
           "#00cc96",
           "#ab63fa",
           "#FFA15A",
           "#19d3f3",
           "#FF6692",
           "#B6E880",
           "#FF97FF",
           "#FECB52"
          ],
          "font": {
           "color": "#2a3f5f"
          },
          "geo": {
           "bgcolor": "white",
           "lakecolor": "white",
           "landcolor": "#E5ECF6",
           "showlakes": true,
           "showland": true,
           "subunitcolor": "white"
          },
          "hoverlabel": {
           "align": "left"
          },
          "hovermode": "closest",
          "mapbox": {
           "style": "light"
          },
          "paper_bgcolor": "white",
          "plot_bgcolor": "#E5ECF6",
          "polar": {
           "angularaxis": {
            "gridcolor": "white",
            "linecolor": "white",
            "ticks": ""
           },
           "bgcolor": "#E5ECF6",
           "radialaxis": {
            "gridcolor": "white",
            "linecolor": "white",
            "ticks": ""
           }
          },
          "scene": {
           "xaxis": {
            "backgroundcolor": "#E5ECF6",
            "gridcolor": "white",
            "gridwidth": 2,
            "linecolor": "white",
            "showbackground": true,
            "ticks": "",
            "zerolinecolor": "white"
           },
           "yaxis": {
            "backgroundcolor": "#E5ECF6",
            "gridcolor": "white",
            "gridwidth": 2,
            "linecolor": "white",
            "showbackground": true,
            "ticks": "",
            "zerolinecolor": "white"
           },
           "zaxis": {
            "backgroundcolor": "#E5ECF6",
            "gridcolor": "white",
            "gridwidth": 2,
            "linecolor": "white",
            "showbackground": true,
            "ticks": "",
            "zerolinecolor": "white"
           }
          },
          "shapedefaults": {
           "line": {
            "color": "#2a3f5f"
           }
          },
          "ternary": {
           "aaxis": {
            "gridcolor": "white",
            "linecolor": "white",
            "ticks": ""
           },
           "baxis": {
            "gridcolor": "white",
            "linecolor": "white",
            "ticks": ""
           },
           "bgcolor": "#E5ECF6",
           "caxis": {
            "gridcolor": "white",
            "linecolor": "white",
            "ticks": ""
           }
          },
          "title": {
           "x": 0.05
          },
          "xaxis": {
           "automargin": true,
           "gridcolor": "white",
           "linecolor": "white",
           "ticks": "",
           "title": {
            "standoff": 15
           },
           "zerolinecolor": "white",
           "zerolinewidth": 2
          },
          "yaxis": {
           "automargin": true,
           "gridcolor": "white",
           "linecolor": "white",
           "ticks": "",
           "title": {
            "standoff": 15
           },
           "zerolinecolor": "white",
           "zerolinewidth": 2
          }
         }
        },
        "title": {
         "font": {
          "size": 18
         },
         "text": "Carte des jeunes employés (15–35 ans) par pays"
        }
       }
      },
      "image/png": "[encoded data removed]",
      "text/html": [
       "<div>                            <div id=\"40fb8678-ad99-44fa-91b5-2b515611d261\" class=\"plotly-graph-div\" style=\"height:525px; width:100%;\"></div>            <script type=\"text/javascript\">                require([\"plotly\"], function(Plotly) {                    window.PLOTLYENV=window.PLOTLYENV || {};                                    if (document.getElementById(\"40fb8678-ad99-44fa-91b5-2b515611d261\")) {                    Plotly.newPlot(                        \"40fb8678-ad99-44fa-91b5-2b515611d261\",                        [{\"coloraxis\":\"coloraxis\",\"geo\":\"geo\",\"hovertemplate\":\"country=%{location}<br>Nombre de jeunes employ\\u00e9s=%{z}<extra></extra>\",\"locationmode\":\"country names\",\"locations\":[\"Algeria\",\"Angola\",\"Benin\",\"Botswana\",\"Burkina Faso\",\"Burundi\",\"Cabo Verde\",\"Cameroon\",\"Central African Republic\",\"Chad\",\"Comoros\",\"Congo\",\"Congo, Democratic Republic of the\",\"C\\u00f4te d'Ivoire\",\"Djibouti\",\"Egypt\",\"Equatorial Guinea\",\"Eritrea\",\"Eswatini\",\"Ethiopia\",\"Gabon\",\"Gambia\",\"Ghana\",\"Guinea\",\"Guinea-Bissau\",\"Kenya\",\"Lesotho\",\"Liberia\",\"Libya\",\"Madagascar\",\"Malawi\",\"Mali\",\"Mauritania\",\"Mauritius\",\"Morocco\",\"Mozambique\",\"Namibia\",\"Niger\",\"Nigeria\",\"Rwanda\",\"Sao Tome and Principe\",\"Senegal\",\"Sierra Leone\",\"Somalia\",\"South Africa\",\"South Sudan\",\"Sudan\",\"Tanzania, United Republic of\",\"Togo\",\"Tunisia\",\"Uganda\",\"Western Sahara\",\"Zambia\",\"Zimbabwe\"],\"name\":\"\",\"z\":[66990018,121241746,38156026,6108572,72673972,49105502,1341225,97576805,19034089,52480462,1616789,14482265,277222814,91268397,1137394,187444402,3270830,23525902,2872788,479923184,3687961,7299026,103740790,35152585,5638758,185308203,6953874,21040581,10635235,136721004,78296495,75674239,8823726,2720545,66653849,136691486,6441460,95075220,733868804,34941275,405189,44511958,22270930,21197005,114984150,51860213,84993349,291478840,22585058,18962055,182946861,1545129,57662734,63049530],\"type\":\"choropleth\"}],                        {\"template\":{\"data\":{\"histogram2dcontour\":[{\"type\":\"histogram2dcontour\",\"colorbar\":{\"outlinewidth\":0,\"ticks\":\"\"},\"colorscale\":[[0.0,\"#0d0887\"],[0.1111111111111111,\"#46039f\"],[0.2222222222222222,\"#7201a8\"],[0.3333333333333333,\"#9c179e\"],[0.4444444444444444,\"#bd3786\"],[0.5555555555555556,\"#d8576b\"],[0.6666666666666666,\"#ed7953\"],[0.7777777777777778,\"#fb9f3a\"],[0.8888888888888888,\"#fdca26\"],[1.0,\"#f0f921\"]]}],\"choropleth\":[{\"type\":\"choropleth\",\"colorbar\":{\"outlinewidth\":0,\"ticks\":\"\"}}],\"histogram2d\":[{\"type\":\"histogram2d\",\"colorbar\":{\"outlinewidth\":0,\"ticks\":\"\"},\"colorscale\":[[0.0,\"#0d0887\"],[0.1111111111111111,\"#46039f\"],[0.2222222222222222,\"#7201a8\"],[0.3333333333333333,\"#9c179e\"],[0.4444444444444444,\"#bd3786\"],[0.5555555555555556,\"#d8576b\"],[0.6666666666666666,\"#ed7953\"],[0.7777777777777778,\"#fb9f3a\"],[0.8888888888888888,\"#fdca26\"],[1.0,\"#f0f921\"]]}],\"heatmap\":[{\"type\":\"heatmap\",\"colorbar\":{\"outlinewidth\":0,\"ticks\":\"\"},\"colorscale\":[[0.0,\"#0d0887\"],[0.1111111111111111,\"#46039f\"],[0.2222222222222222,\"#7201a8\"],[0.3333333333333333,\"#9c179e\"],[0.4444444444444444,\"#bd3786\"],[0.5555555555555556,\"#d8576b\"],[0.6666666666666666,\"#ed7953\"],[0.7777777777777778,\"#fb9f3a\"],[0.8888888888888888,\"#fdca26\"],[1.0,\"#f0f921\"]]}],\"heatmapgl\":[{\"type\":\"heatmapgl\",\"colorbar\":{\"outlinewidth\":0,\"ticks\":\"\"},\"colorscale\":[[0.0,\"#0d0887\"],[0.1111111111111111,\"#46039f\"],[0.2222222222222222,\"#7201a8\"],[0.3333333333333333,\"#9c179e\"],[0.4444444444444444,\"#bd3786\"],[0.5555555555555556,\"#d8576b\"],[0.6666666666666666,\"#ed7953\"],[0.7777777777777778,\"#fb9f3a\"],[0.8888888888888888,\"#fdca26\"],[1.0,\"#f0f921\"]]}],\"contourcarpet\":[{\"type\":\"contourcarpet\",\"colorbar\":{\"outlinewidth\":0,\"ticks\":\"\"}}],\"contour\":[{\"type\":\"contour\",\"colorbar\":{\"outlinewidth\":0,\"ticks\":\"\"},\"colorscale\":[[0.0,\"#0d0887\"],[0.1111111111111111,\"#46039f\"],[0.2222222222222222,\"#7201a8\"],[0.3333333333333333,\"#9c179e\"],[0.4444444444444444,\"#bd3786\"],[0.5555555555555556,\"#d8576b\"],[0.6666666666666666,\"#ed7953\"],[0.7777777777777778,\"#fb9f3a\"],[0.8888888888888888,\"#fdca26\"],[1.0,\"#f0f921\"]]}],\"surface\":[{\"type\":\"surface\",\"colorbar\":{\"outlinewidth\":0,\"ticks\":\"\"},\"colorscale\":[[0.0,\"#0d0887\"],[0.1111111111111111,\"#46039f\"],[0.2222222222222222,\"#7201a8\"],[0.3333333333333333,\"#9c179e\"],[0.4444444444444444,\"#bd3786\"],[0.5555555555555556,\"#d8576b\"],[0.6666666666666666,\"#ed7953\"],[0.7777777777777778,\"#fb9f3a\"],[0.8888888888888888,\"#fdca26\"],[1.0,\"#f0f921\"]]}],\"mesh3d\":[{\"type\":\"mesh3d\",\"colorbar\":{\"outlinewidth\":0,\"ticks\":\"\"}}],\"scatter\":[{\"fillpattern\":{\"fillmode\":\"overlay\",\"size\":10,\"solidity\":0.2},\"type\":\"scatter\"}],\"parcoords\":[{\"type\":\"parcoords\",\"line\":{\"colorbar\":{\"outlinewidth\":0,\"ticks\":\"\"}}}],\"scatterpolargl\":[{\"type\":\"scatterpolargl\",\"marker\":{\"colorbar\":{\"outlinewidth\":0,\"ticks\":\"\"}}}],\"bar\":[{\"error_x\":{\"color\":\"#2a3f5f\"},\"error_y\":{\"color\":\"#2a3f5f\"},\"marker\":{\"line\":{\"color\":\"#E5ECF6\",\"width\":0.5},\"pattern\":{\"fillmode\":\"overlay\",\"size\":10,\"solidity\":0.2}},\"type\":\"bar\"}],\"scattergeo\":[{\"type\":\"scattergeo\",\"marker\":{\"colorbar\":{\"outlinewidth\":0,\"ticks\":\"\"}}}],\"scatterpolar\":[{\"type\":\"scatterpolar\",\"marker\":{\"colorbar\":{\"outlinewidth\":0,\"ticks\":\"\"}}}],\"histogram\":[{\"marker\":{\"pattern\":{\"fillmode\":\"overlay\",\"size\":10,\"solidity\":0.2}},\"type\":\"histogram\"}],\"scattergl\":[{\"type\":\"scattergl\",\"marker\":{\"colorbar\":{\"outlinewidth\":0,\"ticks\":\"\"}}}],\"scatter3d\":[{\"type\":\"scatter3d\",\"line\":{\"colorbar\":{\"outlinewidth\":0,\"ticks\":\"\"}},\"marker\":{\"colorbar\":{\"outlinewidth\":0,\"ticks\":\"\"}}}],\"scattermapbox\":[{\"type\":\"scattermapbox\",\"marker\":{\"colorbar\":{\"outlinewidth\":0,\"ticks\":\"\"}}}],\"scatterternary\":[{\"type\":\"scatterternary\",\"marker\":{\"colorbar\":{\"outlinewidth\":0,\"ticks\":\"\"}}}],\"scattercarpet\":[{\"type\":\"scattercarpet\",\"marker\":{\"colorbar\":{\"outlinewidth\":0,\"ticks\":\"\"}}}],\"carpet\":[{\"aaxis\":{\"endlinecolor\":\"#2a3f5f\",\"gridcolor\":\"white\",\"linecolor\":\"white\",\"minorgridcolor\":\"white\",\"startlinecolor\":\"#2a3f5f\"},\"baxis\":{\"endlinecolor\":\"#2a3f5f\",\"gridcolor\":\"white\",\"linecolor\":\"white\",\"minorgridcolor\":\"white\",\"startlinecolor\":\"#2a3f5f\"},\"type\":\"carpet\"}],\"table\":[{\"cells\":{\"fill\":{\"color\":\"#EBF0F8\"},\"line\":{\"color\":\"white\"}},\"header\":{\"fill\":{\"color\":\"#C8D4E3\"},\"line\":{\"color\":\"white\"}},\"type\":\"table\"}],\"barpolar\":[{\"marker\":{\"line\":{\"color\":\"#E5ECF6\",\"width\":0.5},\"pattern\":{\"fillmode\":\"overlay\",\"size\":10,\"solidity\":0.2}},\"type\":\"barpolar\"}],\"pie\":[{\"automargin\":true,\"type\":\"pie\"}]},\"layout\":{\"autotypenumbers\":\"strict\",\"colorway\":[\"#636efa\",\"#EF553B\",\"#00cc96\",\"#ab63fa\",\"#FFA15A\",\"#19d3f3\",\"#FF6692\",\"#B6E880\",\"#FF97FF\",\"#FECB52\"],\"font\":{\"color\":\"#2a3f5f\"},\"hovermode\":\"closest\",\"hoverlabel\":{\"align\":\"left\"},\"paper_bgcolor\":\"white\",\"plot_bgcolor\":\"#E5ECF6\",\"polar\":{\"bgcolor\":\"#E5ECF6\",\"angularaxis\":{\"gridcolor\":\"white\",\"linecolor\":\"white\",\"ticks\":\"\"},\"radialaxis\":{\"gridcolor\":\"white\",\"linecolor\":\"white\",\"ticks\":\"\"}},\"ternary\":{\"bgcolor\":\"#E5ECF6\",\"aaxis\":{\"gridcolor\":\"white\",\"linecolor\":\"white\",\"ticks\":\"\"},\"baxis\":{\"gridcolor\":\"white\",\"linecolor\":\"white\",\"ticks\":\"\"},\"caxis\":{\"gridcolor\":\"white\",\"linecolor\":\"white\",\"ticks\":\"\"}},\"coloraxis\":{\"colorbar\":{\"outlinewidth\":0,\"ticks\":\"\"}},\"colorscale\":{\"sequential\":[[0.0,\"#0d0887\"],[0.1111111111111111,\"#46039f\"],[0.2222222222222222,\"#7201a8\"],[0.3333333333333333,\"#9c179e\"],[0.4444444444444444,\"#bd3786\"],[0.5555555555555556,\"#d8576b\"],[0.6666666666666666,\"#ed7953\"],[0.7777777777777778,\"#fb9f3a\"],[0.8888888888888888,\"#fdca26\"],[1.0,\"#f0f921\"]],\"sequentialminus\":[[0.0,\"#0d0887\"],[0.1111111111111111,\"#46039f\"],[0.2222222222222222,\"#7201a8\"],[0.3333333333333333,\"#9c179e\"],[0.4444444444444444,\"#bd3786\"],[0.5555555555555556,\"#d8576b\"],[0.6666666666666666,\"#ed7953\"],[0.7777777777777778,\"#fb9f3a\"],[0.8888888888888888,\"#fdca26\"],[1.0,\"#f0f921\"]],\"diverging\":[[0,\"#8e0152\"],[0.1,\"#c51b7d\"],[0.2,\"#de77ae\"],[0.3,\"#f1b6da\"],[0.4,\"#fde0ef\"],[0.5,\"#f7f7f7\"],[0.6,\"#e6f5d0\"],[0.7,\"#b8e186\"],[0.8,\"#7fbc41\"],[0.9,\"#4d9221\"],[1,\"#276419\"]]},\"xaxis\":{\"gridcolor\":\"white\",\"linecolor\":\"white\",\"ticks\":\"\",\"title\":{\"standoff\":15},\"zerolinecolor\":\"white\",\"automargin\":true,\"zerolinewidth\":2},\"yaxis\":{\"gridcolor\":\"white\",\"linecolor\":\"white\",\"ticks\":\"\",\"title\":{\"standoff\":15},\"zerolinecolor\":\"white\",\"automargin\":true,\"zerolinewidth\":2},\"scene\":{\"xaxis\":{\"backgroundcolor\":\"#E5ECF6\",\"gridcolor\":\"white\",\"linecolor\":\"white\",\"showbackground\":true,\"ticks\":\"\",\"zerolinecolor\":\"white\",\"gridwidth\":2},\"yaxis\":{\"backgroundcolor\":\"#E5ECF6\",\"gridcolor\":\"white\",\"linecolor\":\"white\",\"showbackground\":true,\"ticks\":\"\",\"zerolinecolor\":\"white\",\"gridwidth\":2},\"zaxis\":{\"backgroundcolor\":\"#E5ECF6\",\"gridcolor\":\"white\",\"linecolor\":\"white\",\"showbackground\":true,\"ticks\":\"\",\"zerolinecolor\":\"white\",\"gridwidth\":2}},\"shapedefaults\":{\"line\":{\"color\":\"#2a3f5f\"}},\"annotationdefaults\":{\"arrowcolor\":\"#2a3f5f\",\"arrowhead\":0,\"arrowwidth\":1},\"geo\":{\"bgcolor\":\"white\",\"landcolor\":\"#E5ECF6\",\"subunitcolor\":\"white\",\"showland\":true,\"showlakes\":true,\"lakecolor\":\"white\"},\"title\":{\"x\":0.05},\"mapbox\":{\"style\":\"light\"}}},\"geo\":{\"domain\":{\"x\":[0.0,1.0],\"y\":[0.0,1.0]},\"center\":{},\"fitbounds\":\"locations\",\"visible\":false},\"coloraxis\":{\"colorbar\":{\"title\":{\"text\":\"Nombre de jeunes employ\\u00e9s\"}},\"colorscale\":[[0.0,\"#440154\"],[0.1111111111111111,\"#482878\"],[0.2222222222222222,\"#3e4989\"],[0.3333333333333333,\"#31688e\"],[0.4444444444444444,\"#26828e\"],[0.5555555555555556,\"#1f9e89\"],[0.6666666666666666,\"#35b779\"],[0.7777777777777778,\"#6ece58\"],[0.8888888888888888,\"#b5de2b\"],[1.0,\"#fde725\"]]},\"legend\":{\"tracegroupgap\":0},\"title\":{\"text\":\"Carte des jeunes employ\\u00e9s (15\\u201335 ans) par pays\",\"font\":{\"size\":18}}},                        {\"responsive\": true}                    ).then(function(){\n",
       "                            \n",
       "var gd = document.getElementById('40fb8678-ad99-44fa-91b5-2b515611d261');\n",
       "var x = new MutationObserver(function (mutations, observer) {{\n",
       "        var display = window.getComputedStyle(gd).display;\n",
       "        if (!display || display === 'none') {{\n",
       "            console.log([gd, 'removed!']);\n",
       "            Plotly.purge(gd);\n",
       "            observer.disconnect();\n",
       "        }}\n",
       "}});\n",
       "\n",
       "// Listen for the removal of the full notebook cells\n",
       "var notebookContainer = gd.closest('#notebook-container');\n",
       "if (notebookContainer) {{\n",
       "    x.observe(notebookContainer, {childList: true});\n",
       "}}\n",
       "\n",
       "// Listen for the clearing of the current output cell\n",
       "var outputEl = gd.closest('.output');\n",
       "if (outputEl) {{\n",
       "    x.observe(outputEl, {childList: true});\n",
       "}}\n",
       "\n",
       "                        })                };                });            </script>        </div>"
      ]
     },
     "metadata": {},
     "output_type": "display_data"
    }
   ],
   "source": [
    "# Agrégation du total de jeunes employés par pays\n",
    "df_country_total = df_sector_employed_clean.groupby(\"country\")[\"employed_population\"].sum().reset_index()\n",
    "\n",
    "# Carte choroplèthe\n",
    "fig = px.choropleth(\n",
    "    df_country_total,\n",
    "    locations=\"country\",\n",
    "    locationmode=\"country names\",\n",
    "    color=\"employed_population\",\n",
    "    color_continuous_scale=\"Viridis\",\n",
    "    title=\"Carte des jeunes employés (15–35 ans) par pays\",\n",
    "    labels={\"employed_population\": \"Nombre de jeunes employés\"}\n",
    ")\n",
    "\n",
    "# Ajustements géographiques\n",
    "fig.update_geos(fitbounds=\"locations\", visible=False)\n",
    "fig.update_layout(title_font_size=18)\n",
    "\n",
    "fig.show()"
   ]
  },
  {
   "cell_type": "raw",
   "id": "c36e7a70-6c7c-4b92-9e94-5b30bb280376",
   "metadata": {},
   "source": [
    "***** Interprétation stratégique :\n",
    "Corrélation forte entre poids démographique et nombre de jeunes employés.\n",
    "L’emploi reste massivement concentré dans les pays à forte population rurale.\n",
    "L’absence de données ou le faible emploi déclaré dans certains pays peut traduire un déficit de formalisation ou une économie informelle dominante."
   ]
  },
  {
   "cell_type": "markdown",
   "id": "f6745ce5-00b3-4e6b-af81-f250dca756ee",
   "metadata": {},
   "source": [
    "# 4. Construsction de modèles de prévision pour projeter l’emploi des jeunes par secteur et par genre"
   ]
  },
  {
   "cell_type": "raw",
   "id": "547e2bc8-8f40-43cc-9f13-74d17a5925f0",
   "metadata": {},
   "source": [
    "Comparaison des modèles RandomForestRegressor et XGBRegressor afin de choisir le meilleur modèle pour la prédiction."
   ]
  },
  {
   "cell_type": "code",
   "execution_count": 21,
   "id": "9efc97e3-cb63-4e3a-9aaf-07e538f321ad",
   "metadata": {},
   "outputs": [],
   "source": [
    "# 1. Agréger les 3 tables avant fusion\n",
    "df_sector_agg = df_sector_employed_clean.groupby([\"year\", \"country\", \"gender\", \"sector\"])[\"employed_population\"].sum().reset_index()\n",
    "df_edu_agg = df_education_combined_clean.groupby([\"year\", \"country\", \"gender\", \"education_level\"])[\"population\"].sum().reset_index()\n",
    "df_urban_agg = df_rural_urban_clean.groupby([\"year\", \"country\", \"gender\", \"urban\"])[\"rural_urban_employed_population\"].sum().reset_index()\n",
    "\n",
    "# 2. Fusion sécurisée sans explosion\n",
    "df_merge = df_sector_agg.merge(\n",
    "    df_edu_agg, on=[\"year\", \"country\", \"gender\"], how=\"inner\"\n",
    ").merge(\n",
    "    df_urban_agg, on=[\"year\", \"country\", \"gender\"], how=\"inner\"\n",
    ")\n",
    "\n",
    "# 3. Cible = employed_population ; les autres colonnes = features\n",
    "df_model_final = df_merge[[\n",
    "    \"year\", \"country\", \"gender\", \"education_level\", \"urban\", \"sector\", \"employed_population\"\n",
    "]].dropna()"
   ]
  },
  {
   "cell_type": "code",
   "execution_count": 22,
   "id": "22d229c1-67d2-4cd2-b963-2f17c7ad58c8",
   "metadata": {},
   "outputs": [
    {
     "name": "stdout",
     "output_type": "stream",
     "text": [
      "Table finale prête pour la modélisation : (189224, 7)\n"
     ]
    },
    {
     "data": {
      "text/html": [
       "<div>\n",
       "<style scoped>\n",
       "    .dataframe tbody tr th:only-of-type {\n",
       "        vertical-align: middle;\n",
       "    }\n",
       "\n",
       "    .dataframe tbody tr th {\n",
       "        vertical-align: top;\n",
       "    }\n",
       "\n",
       "    .dataframe thead th {\n",
       "        text-align: right;\n",
       "    }\n",
       "</style>\n",
       "<table border=\"1\" class=\"dataframe\">\n",
       "  <thead>\n",
       "    <tr style=\"text-align: right;\">\n",
       "      <th></th>\n",
       "      <th>year</th>\n",
       "      <th>country</th>\n",
       "      <th>gender</th>\n",
       "      <th>education_level</th>\n",
       "      <th>urban</th>\n",
       "      <th>sector</th>\n",
       "      <th>employed_population</th>\n",
       "    </tr>\n",
       "  </thead>\n",
       "  <tbody>\n",
       "    <tr>\n",
       "      <th>0</th>\n",
       "      <td>2015</td>\n",
       "      <td>Algeria</td>\n",
       "      <td>female</td>\n",
       "      <td>no</td>\n",
       "      <td>Rural</td>\n",
       "      <td>Accommodation and food service activities</td>\n",
       "      <td>4949</td>\n",
       "    </tr>\n",
       "    <tr>\n",
       "      <th>1</th>\n",
       "      <td>2015</td>\n",
       "      <td>Algeria</td>\n",
       "      <td>female</td>\n",
       "      <td>no</td>\n",
       "      <td>Urban</td>\n",
       "      <td>Accommodation and food service activities</td>\n",
       "      <td>4949</td>\n",
       "    </tr>\n",
       "    <tr>\n",
       "      <th>2</th>\n",
       "      <td>2015</td>\n",
       "      <td>Algeria</td>\n",
       "      <td>female</td>\n",
       "      <td>primary</td>\n",
       "      <td>Rural</td>\n",
       "      <td>Accommodation and food service activities</td>\n",
       "      <td>4949</td>\n",
       "    </tr>\n",
       "    <tr>\n",
       "      <th>3</th>\n",
       "      <td>2015</td>\n",
       "      <td>Algeria</td>\n",
       "      <td>female</td>\n",
       "      <td>primary</td>\n",
       "      <td>Urban</td>\n",
       "      <td>Accommodation and food service activities</td>\n",
       "      <td>4949</td>\n",
       "    </tr>\n",
       "    <tr>\n",
       "      <th>4</th>\n",
       "      <td>2015</td>\n",
       "      <td>Algeria</td>\n",
       "      <td>female</td>\n",
       "      <td>secondary</td>\n",
       "      <td>Rural</td>\n",
       "      <td>Accommodation and food service activities</td>\n",
       "      <td>4949</td>\n",
       "    </tr>\n",
       "  </tbody>\n",
       "</table>\n",
       "</div>"
      ],
      "text/plain": [
       "   year  country  gender education_level  urban  \\\n",
       "0  2015  Algeria  female              no  Rural   \n",
       "1  2015  Algeria  female              no  Urban   \n",
       "2  2015  Algeria  female         primary  Rural   \n",
       "3  2015  Algeria  female         primary  Urban   \n",
       "4  2015  Algeria  female       secondary  Rural   \n",
       "\n",
       "                                      sector  employed_population  \n",
       "0  Accommodation and food service activities                 4949  \n",
       "1  Accommodation and food service activities                 4949  \n",
       "2  Accommodation and food service activities                 4949  \n",
       "3  Accommodation and food service activities                 4949  \n",
       "4  Accommodation and food service activities                 4949  "
      ]
     },
     "metadata": {},
     "output_type": "display_data"
    }
   ],
   "source": [
    "# Harmoniser les colonnes\n",
    "df_education_combined_clean = df_education_combined_clean.rename(columns={\"sex\": \"gender\"})\n",
    "\n",
    "# 1. Agréger par blocs utiles\n",
    "df_sector_agg = df_sector_employed_clean.groupby(\n",
    "    [\"year\", \"country\", \"gender\", \"sector\"]\n",
    ")[\"employed_population\"].sum().reset_index()\n",
    "\n",
    "df_edu_agg = df_education_combined_clean.groupby(\n",
    "    [\"year\", \"country\", \"gender\", \"education_level\"]\n",
    ")[\"population\"].sum().reset_index()\n",
    "\n",
    "df_urban_agg = df_rural_urban_clean.groupby(\n",
    "    [\"year\", \"country\", \"gender\", \"urban\"]\n",
    ")[\"rural_urban_employed_population\"].sum().reset_index()\n",
    "\n",
    "# 2. Fusion progressive sur les dimensions communes\n",
    "df_merge = df_sector_agg.merge(\n",
    "    df_edu_agg, on=[\"year\", \"country\", \"gender\"], how=\"inner\"\n",
    ").merge(\n",
    "    df_urban_agg, on=[\"year\", \"country\", \"gender\"], how=\"inner\"\n",
    ")\n",
    "\n",
    "# 3. Nettoyage final pour la modélisation\n",
    "df_model_final = df_merge[[\n",
    "    \"year\", \"country\", \"gender\", \"education_level\", \"urban\", \"sector\", \"employed_population\"\n",
    "]].dropna()\n",
    "\n",
    "print(\"Table finale prête pour la modélisation :\", df_model_final.shape)\n",
    "display(df_model_final.head())"
   ]
  },
  {
   "cell_type": "code",
   "execution_count": 23,
   "id": "33bd27d0-70ff-4585-94a6-1133242fe5b2",
   "metadata": {},
   "outputs": [
    {
     "name": "stdout",
     "output_type": "stream",
     "text": [
      "Optimisation RandomForestRegressor...\n",
      "Fitting 3 folds for each of 12 candidates, totalling 36 fits\n",
      "Optimisation XGBRegressor...\n",
      "Fitting 3 folds for each of 16 candidates, totalling 48 fits\n",
      "\n",
      " Résultats optimisés (évalués sur le jeu complet) :\n",
      "RandomForestRegressor : {'MAE': 30917.32, 'RMSE': 96872.07, 'R²': 0.9789} | Best params : {'max_depth': None, 'min_samples_split': 2, 'n_estimators': 200}\n",
      "XGBRegressor : {'MAE': 45620.81, 'RMSE': 105777.68, 'R²': 0.9749} | Best params : {'learning_rate': 0.3, 'max_depth': 6, 'n_estimators': 200, 'subsample': 1}\n",
      "\n",
      "Modèle retenu : RandomForestRegressor\n"
     ]
    }
   ],
   "source": [
    "from sklearn.model_selection import train_test_split, GridSearchCV\n",
    "from sklearn.ensemble import RandomForestRegressor\n",
    "from xgboost import XGBRegressor\n",
    "from sklearn.preprocessing import LabelEncoder\n",
    "from sklearn.metrics import mean_absolute_error, mean_squared_error, r2_score\n",
    "import numpy as np\n",
    "\n",
    "# 1. Encodage des variables catégorielles\n",
    "df_encoded = df_model_final.copy()\n",
    "label_encoders = {}\n",
    "cat_cols = [\"country\", \"gender\", \"education_level\", \"urban\", \"sector\"]\n",
    "\n",
    "for col in cat_cols:\n",
    "    le = LabelEncoder()\n",
    "    df_encoded[col] = le.fit_transform(df_encoded[col])\n",
    "    label_encoders[col] = le\n",
    "\n",
    "# 2. Split complet\n",
    "X = df_encoded[[\"year\", \"country\", \"gender\", \"education_level\", \"urban\", \"sector\"]]\n",
    "y = df_encoded[\"employed_population\"]\n",
    "\n",
    "# On prend un échantillon pour aller vite\n",
    "X_sample, _, y_sample, _ = train_test_split(X, y, train_size=10000, random_state=42)\n",
    "\n",
    "# 3. Grilles réduites\n",
    "rf_params = {\n",
    "    \"n_estimators\": [100, 200],\n",
    "    \"max_depth\": [5, 10, None],\n",
    "    \"min_samples_split\": [2, 5]\n",
    "}\n",
    "\n",
    "xgb_params = {\n",
    "    \"n_estimators\": [100, 200],\n",
    "    \"max_depth\": [3, 6],\n",
    "    \"learning_rate\": [0.1, 0.3],\n",
    "    \"subsample\": [0.8, 1]\n",
    "}\n",
    "\n",
    "# 4. GridSearch pour RandomForest\n",
    "print(\"Optimisation RandomForestRegressor...\")\n",
    "rf_grid = GridSearchCV(\n",
    "    RandomForestRegressor(random_state=42),\n",
    "    rf_params,\n",
    "    cv=3,\n",
    "    scoring=\"neg_root_mean_squared_error\",\n",
    "    verbose=1,\n",
    "    n_jobs=-1\n",
    ")\n",
    "rf_grid.fit(X_sample, y_sample)\n",
    "\n",
    "# 5. GridSearch pour XGBRegressor\n",
    "print(\"Optimisation XGBRegressor...\")\n",
    "xgb_grid = GridSearchCV(\n",
    "    XGBRegressor(random_state=42, verbosity=0),\n",
    "    xgb_params,\n",
    "    cv=3,\n",
    "    scoring=\"neg_root_mean_squared_error\",\n",
    "    verbose=1,\n",
    "    n_jobs=-1\n",
    ")\n",
    "xgb_grid.fit(X_sample, y_sample)\n",
    "\n",
    "# 6. Évaluation sur test complet\n",
    "X_train, X_test, y_train, y_test = train_test_split(X, y, test_size=0.2, random_state=42)\n",
    "\n",
    "def eval_model(y_true, y_pred):\n",
    "    return {\n",
    "        \"MAE\": round(mean_absolute_error(y_true, y_pred), 2),\n",
    "        \"RMSE\": round(np.sqrt(mean_squared_error(y_true, y_pred)), 2),\n",
    "        \"R²\": round(r2_score(y_true, y_pred), 4)\n",
    "    }\n",
    "\n",
    "rf_best = rf_grid.best_estimator_\n",
    "xgb_best = xgb_grid.best_estimator_\n",
    "\n",
    "rf_scores = eval_model(y_test, rf_best.predict(X_test))\n",
    "xgb_scores = eval_model(y_test, xgb_best.predict(X_test))\n",
    "\n",
    "# 7. Résumé\n",
    "print(\"\\n Résultats optimisés (évalués sur le jeu complet) :\")\n",
    "print(\"RandomForestRegressor :\", rf_scores, \"| Best params :\", rf_grid.best_params_)\n",
    "print(\"XGBRegressor :\", xgb_scores, \"| Best params :\", xgb_grid.best_params_)\n",
    "\n",
    "# 8. Choix du meilleur\n",
    "if rf_scores[\"RMSE\"] < xgb_scores[\"RMSE\"]:\n",
    "    print(\"\\nModèle retenu : RandomForestRegressor\")\n",
    "    best_model = rf_best\n",
    "else:\n",
    "    print(\"\\nModèle retenu : XGBRegressor\")\n",
    "    best_model = xgb_best"
   ]
  },
  {
   "cell_type": "markdown",
   "id": "6e7c53a4-36bf-4e12-bc7f-8f19da97cd9c",
   "metadata": {},
   "source": [
    "# Scénario 1 : Egalité hommes femmes (+20% de femmes)"
   ]
  },
  {
   "cell_type": "raw",
   "id": "c31cb131-a9f8-4359-8c78-7881510cefef",
   "metadata": {},
   "source": [
    "À partir de 2024, on suppose que les femmes dans le secteur de l’Éducation voient leur emploi augmenter artificiellement \n",
    "de +20 % par rapport aux prévisions « normales »."
   ]
  },
  {
   "cell_type": "code",
   "execution_count": 25,
   "id": "c976a3bb-3ead-428c-8bfc-25c0f37f514c",
   "metadata": {},
   "outputs": [
    {
     "data": {
      "application/vnd.jupyter.widget-view+json": {
       "model_id": "71aaed0a10b04ff6804b2fa44a550bf5",
       "version_major": 2,
       "version_minor": 0
      },
      "text/plain": [
       "interactive(children=(Dropdown(description='Pays', options=('Tous les pays', 'Algeria', 'Angola', 'Benin', 'Bo…"
      ]
     },
     "metadata": {},
     "output_type": "display_data"
    }
   ],
   "source": [
    "from ipywidgets import interact, Dropdown, Button, Output, VBox\n",
    "from IPython.display import FileLink, display\n",
    "import numpy as np\n",
    "import pandas as pd\n",
    "import plotly.graph_objects as go\n",
    "\n",
    "# Années de prévision\n",
    "annees = list(range(2025, 2031))\n",
    "\n",
    "# Dropdowns dynamiques\n",
    "pays_liste = [\"Tous les pays\"] + sorted(df_model_final[\"country\"].dropna().unique().tolist())\n",
    "secteurs_liste = [\"Tous les secteurs\"] + sorted(df_model_final[\"sector\"].dropna().unique().tolist())\n",
    "\n",
    "@interact(\n",
    "    pays=Dropdown(options=pays_liste, description=\"Pays\"),\n",
    "    secteur=Dropdown(options=secteurs_liste, description=\"Secteur\")\n",
    ")\n",
    "def prevision_parite_emploi(pays, secteur):\n",
    "    # Encodage genre\n",
    "    code_m = label_encoders[\"gender\"].transform([\"male\"])[0]\n",
    "    code_f = label_encoders[\"gender\"].transform([\"female\"])[0]\n",
    "\n",
    "    # Init prédictions\n",
    "    total_pred_m = np.zeros(len(annees))\n",
    "    total_pred_f = np.zeros(len(annees))\n",
    "\n",
    "    secteurs_cibles = [secteur] if secteur != \"Tous les secteurs\" else secteurs_liste[1:]\n",
    "\n",
    "    for s in secteurs_cibles:\n",
    "        try:\n",
    "            code_s = label_encoders[\"sector\"].transform([s])[0]\n",
    "            code_c = label_encoders[\"country\"].transform([pays])[0] if pays != \"Tous les pays\" else None\n",
    "            code_e = label_encoders[\"education_level\"].transform([\"secondary\"])[0]\n",
    "            code_u = label_encoders[\"urban\"].transform([\"Urban\"])[0]\n",
    "\n",
    "            df_m = pd.DataFrame({\n",
    "                \"year\": annees,\n",
    "                \"country\": [code_c if code_c is not None else 0] * len(annees),\n",
    "                \"gender\": [code_m] * len(annees),\n",
    "                \"education_level\": [code_e] * len(annees),\n",
    "                \"urban\": [code_u] * len(annees),\n",
    "                \"sector\": [code_s] * len(annees)\n",
    "            })\n",
    "\n",
    "            df_f = df_m.copy()\n",
    "            df_f[\"gender\"] = code_f\n",
    "\n",
    "            if pays == \"Tous les pays\":\n",
    "                pred_m = best_model.predict(df_m) / len(label_encoders[\"country\"].classes_)\n",
    "                pred_f = best_model.predict(df_f) / len(label_encoders[\"country\"].classes_)\n",
    "            else:\n",
    "                pred_m = best_model.predict(df_m)\n",
    "                pred_f = best_model.predict(df_f)\n",
    "\n",
    "            total_pred_m += pred_m\n",
    "            total_pred_f += pred_f\n",
    "\n",
    "        except Exception as e:\n",
    "            print(f\"Erreur pour le secteur {s} : {e}\")\n",
    "            continue\n",
    "\n",
    "    # Scénario de parité +20 % sur l'emploi féminin\n",
    "    pred_f_scenario = total_pred_f * 1.20\n",
    "\n",
    "    # Tracé du graphique\n",
    "    fig = go.Figure()\n",
    "    fig.add_trace(go.Scatter(x=annees, y=total_pred_m, mode='lines+markers', name=\"Hommes\", line=dict(color=\"#2ca02c\")))\n",
    "    fig.add_trace(go.Scatter(x=annees, y=total_pred_f, mode='lines+markers', name=\"Femmes (prévision actuelle)\", line=dict(color=\"#d62728\")))\n",
    "    fig.add_trace(go.Scatter(x=annees, y=pred_f_scenario, mode='lines+markers', name=\"Femmes (scénario +20%)\", line=dict(color=\"#ff9896\", dash='dash')))\n",
    "\n",
    "    titre_pays = pays if pays != \"Tous les pays\" else \"ensemble des pays\"\n",
    "    titre_secteur = secteur if secteur != \"Tous les secteurs\" else \"tous les secteurs\"\n",
    "\n",
    "    fig.update_layout(\n",
    "        title=f\"Scénario : Parité (+20 % emploi féminin) – ({titre_pays}, {titre_secteur})\",\n",
    "        xaxis_title=\"Années\",\n",
    "        yaxis_title=\"Population prédite\",\n",
    "        title_font_size=18,\n",
    "        legend_title=\"Genre / Scénario\"\n",
    "    )\n",
    "    fig.show()\n",
    "\n",
    "    # Export CSV\n",
    "    df_export = pd.DataFrame({\n",
    "        \"Année\": annees,\n",
    "        \"Hommes\": total_pred_m.round().astype(int),\n",
    "        \"Femmes (prévision actuelle)\": total_pred_f.round().astype(int),\n",
    "        \"Femmes (scénario +20%)\": pred_f_scenario.round().astype(int),\n",
    "        \"Pays\": pays,\n",
    "        \"Secteur\": secteur\n",
    "    })\n",
    "\n",
    "    output = Output()\n",
    "    button = Button(description=\"📥 Générer le CSV\")\n",
    "\n",
    "    def on_button_click(b):\n",
    "        filename = f\"parite_emploi_{secteur.replace(' ', '_')}_{pays.replace(' ', '_')}.csv\"\n",
    "        df_export.to_csv(filename, index=False)\n",
    "        with output:\n",
    "            output.clear_output()\n",
    "            display(FileLink(filename, result_html_prefix=\"👉 Télécharger ici : \"))\n",
    "\n",
    "    button.on_click(on_button_click)\n",
    "    display(VBox([button, output]))"
   ]
  },
  {
   "cell_type": "raw",
   "id": "d96f6f8b-3de3-41da-9369-898b13fe7e8c",
   "metadata": {},
   "source": [
    "*****Analyse du graphique pour le Sénégal tous secteurs confondus****\n",
    "\n",
    "Interprétation stratégique :\n",
    "Le scénario montre que même une augmentation de +20 % du volume d’emploi féminin ne suffit pas à combler l’écart avec les hommes.\n",
    "\n",
    "Cela suggère que l’écart initial est trop large, ou que les dynamiques d’emploi masculin continuent de croître fortement.\n",
    "Il faudrait aller au-delà de +20 % ou cibler des secteurs spécifiques à fort potentiel d’absorption féminine.\n",
    "\n",
    "Leçons politiques :\n",
    "Un simple choc global de +20 % n’est pas suffisant → il doit être accompagné :\n",
    "    - d’une transformation structurelle sectorielle\n",
    "    - d’un accès équitable aux formations\n",
    "    - de réformes sociétales sur la répartition des rôles"
   ]
  },
  {
   "cell_type": "markdown",
   "id": "a6ce0af2-9766-480e-a0c8-7531b64ded7b",
   "metadata": {},
   "source": [
    "# Scénario 2 : Parité + Réduction du chômage des diplômés"
   ]
  },
  {
   "cell_type": "raw",
   "id": "b2c35328-d79b-49aa-8ea7-206fe9283c64",
   "metadata": {},
   "source": [
    "Hypothèse combinée : À partir de 2024 : \n",
    "1. +20 % d’emplois pour les femmes (égalité des chances dans l’emploi) \n",
    "2. –5 % de chômage par an pour les diplômés du secondaire & supérieur (réformes éducatives + insertion)"
   ]
  },
  {
   "cell_type": "code",
   "execution_count": 27,
   "id": "cfbcfdd6-2445-4f5c-bcf3-220a64b94ea3",
   "metadata": {},
   "outputs": [
    {
     "data": {
      "application/vnd.jupyter.widget-view+json": {
       "model_id": "99aa0cc511474e6b83f06ae15bab5ba8",
       "version_major": 2,
       "version_minor": 0
      },
      "text/plain": [
       "interactive(children=(Dropdown(description='Pays', options=('Tous les pays', 'Algeria', 'Angola', 'Benin', 'Bo…"
      ]
     },
     "metadata": {},
     "output_type": "display_data"
    }
   ],
   "source": [
    "annees = list(range(2025, 2031))\n",
    "\n",
    "# Listes de sélection\n",
    "pays_disponibles = [\"Tous les pays\"] + sorted(df_model_final[\"country\"].dropna().unique().tolist())\n",
    "secteurs_disponibles = [\"Tous les secteurs\"] + sorted(df_model_final[\"sector\"].dropna().unique().tolist())\n",
    "\n",
    "@interact(\n",
    "    country=Dropdown(options=pays_disponibles, description=\"Pays\"),\n",
    "    secteur=Dropdown(options=secteurs_disponibles, description=\"Secteur\")\n",
    ")\n",
    "def scenario_combine_parite_chomage(country, secteur):\n",
    "    fig = go.Figure()\n",
    "    output = Output()\n",
    "    button = Button(description=\"📥 Générer le CSV\")\n",
    "\n",
    "    total_emploi_f = np.zeros(len(annees))\n",
    "    total_emploi_f_scenario = np.zeros(len(annees))\n",
    "\n",
    "    # Ordre des colonnes d'entraînement\n",
    "    feature_order = [\"year\", \"country\", \"gender\", \"education_level\", \"urban\", \"sector\"]\n",
    "\n",
    "    # EMPLOI FEMMES\n",
    "    secteurs_cibles = [secteur] if secteur != \"Tous les secteurs\" else secteurs_disponibles[1:]\n",
    "    for s in secteurs_cibles:\n",
    "        try:\n",
    "            s_code = label_encoders[\"sector\"].transform([s])[0]\n",
    "            f_code = label_encoders[\"gender\"].transform([\"female\"])[0]\n",
    "            c_code = label_encoders[\"country\"].transform([country])[0] if country != \"Tous les pays\" else None\n",
    "            e_code = label_encoders[\"education_level\"].transform([\"secondary\"])[0]\n",
    "            u_code = label_encoders[\"urban\"].transform([\"Urban\"])[0]\n",
    "\n",
    "            df_future = pd.DataFrame({\n",
    "                \"year\": annees,\n",
    "                \"gender\": [f_code] * len(annees),\n",
    "                \"sector\": [s_code] * len(annees),\n",
    "                \"country\": [c_code if c_code is not None else 0] * len(annees),\n",
    "                \"education_level\": [e_code] * len(annees),\n",
    "                \"urban\": [u_code] * len(annees)\n",
    "            })\n",
    "\n",
    "            # Réordonner les colonnes\n",
    "            df_future = df_future[feature_order]\n",
    "\n",
    "            pred = best_model.predict(df_future)\n",
    "            if country == \"Tous les pays\":\n",
    "                pred = pred / len(label_encoders[\"country\"].classes_)\n",
    "\n",
    "            total_emploi_f += pred\n",
    "            total_emploi_f_scenario += pred * 1.20\n",
    "\n",
    "        except Exception as e:\n",
    "            print(f\"Erreur secteur {s} : {e}\")\n",
    "            continue\n",
    "\n",
    "    # COURBES EMPLOI FEMMES\n",
    "    fig.add_trace(go.Scatter(x=annees, y=total_emploi_f, name=\"Femmes (emploi – prévision actuelle)\",\n",
    "                             mode=\"lines+markers\", line=dict(color=\"#d62728\")))\n",
    "    fig.add_trace(go.Scatter(x=annees, y=total_emploi_f_scenario, name=\"Femmes (emploi – scénario +20%)\",\n",
    "                             mode=\"lines+markers\", line=dict(color=\"#ff9896\", dash=\"dash\")))\n",
    "\n",
    "    # CHÔMAGE DIPLÔMÉS\n",
    "    df_tmp = df_education_combined_clean.copy()\n",
    "    df_tmp = df_tmp.rename(columns={\"sex\": \"gender\", \"education\": \"education_level\"})\n",
    "\n",
    "    if country != \"Tous les pays\":\n",
    "        df_chom = df_tmp[\n",
    "            (df_tmp[\"status\"] == \"unemployed\") &\n",
    "            (df_tmp[\"education_level\"].isin([\"secondary\", \"tertiary\"])) &\n",
    "            (df_tmp[\"country\"] == country)\n",
    "        ]\n",
    "    else:\n",
    "        df_chom = df_tmp[\n",
    "            (df_tmp[\"status\"] == \"unemployed\") &\n",
    "            (df_tmp[\"education_level\"].isin([\"secondary\", \"tertiary\"]))\n",
    "        ]\n",
    "\n",
    "    df_chom_agg = df_chom[df_chom[\"year\"] <= 2023].groupby(\"year\")[\"population\"].sum().reset_index()\n",
    "\n",
    "    base_val = df_chom_agg[\"population\"].values[-1] if not df_chom_agg.empty else 0\n",
    "    pred_chomage = np.full(len(annees), base_val)\n",
    "    pred_chomage_scenario = base_val * (1 - 0.05) ** np.arange(len(annees))\n",
    "\n",
    "    fig.add_trace(go.Scatter(x=annees, y=pred_chomage, name=\"Chômage diplômés (prévision actuelle)\",\n",
    "                             mode=\"lines+markers\", line=dict(color=\"#1f77b4\")))\n",
    "    fig.add_trace(go.Scatter(x=annees, y=pred_chomage_scenario, name=\"Chômage diplômés (scénario –5%)\",\n",
    "                             mode=\"lines+markers\", line=dict(color=\"#aec7e8\", dash=\"dash\")))\n",
    "\n",
    "    # TITRES\n",
    "    titre_pays = country if country != \"Tous les pays\" else \"ensemble des pays\"\n",
    "    titre_secteur = secteur if secteur != \"Tous les secteurs\" else \"tous les secteurs\"\n",
    "\n",
    "    fig.update_layout(\n",
    "        title=f\"Scénario combiné : Parité + Réduction chômage diplômés - ({titre_pays}, {titre_secteur})\",\n",
    "        xaxis_title=\"Années\",\n",
    "        yaxis_title=\"Population prédite\",\n",
    "        title_font_size=18,\n",
    "        legend_title=\"Prévisions croisées\"\n",
    "    )\n",
    "    fig.show()\n",
    "\n",
    "    # EXPORT CSV\n",
    "    df_export = pd.DataFrame({\n",
    "        \"Année\": annees,\n",
    "        \"Emploi femmes (prévu)\": total_emploi_f.round(),\n",
    "        \"Emploi femmes (+20%)\": total_emploi_f_scenario.round(),\n",
    "        \"Chômage diplômés (prévu)\": pred_chomage.round(),\n",
    "        \"Chômage diplômés (-5%)\": pred_chomage_scenario.round(),\n",
    "        \"Pays\": country,\n",
    "        \"Secteur\": secteur\n",
    "    })\n",
    "\n",
    "    def on_click(b):\n",
    "        with output:\n",
    "            output.clear_output()\n",
    "            filename = f\"scenario_combine_parite_chomage_{country.replace(' ', '_')}_{secteur.replace(' ', '_')}.csv\"\n",
    "            df_export.to_csv(filename, index=False)\n",
    "            display(FileLink(filename, result_html_prefix=\"👉 Télécharger le fichier CSV ici : \"))\n",
    "\n",
    "    button.on_click(on_click)\n",
    "    display(VBox([button, output]))"
   ]
  },
  {
   "cell_type": "raw",
   "id": "ea939473-1c7a-4e20-8ceb-d684ec3cb4bb",
   "metadata": {},
   "source": [
    "*****Analyse du graphique pour le Sénégal tous secteurs confondus****\n",
    "\n",
    "Lecture du graphique :\n",
    "*** Femmes en emploi :\n",
    "Ligne rouge (prévision actuelle) : croissance lente, stable (~1.05M → 1.2M).\n",
    "Ligne rouge pointillée (scénario +20%) : hausse systématique → ~1.45M en 2030.\n",
    "Effet clair de la politique parité : +200 à +250k emplois supplémentaires par an.\n",
    "\n",
    "*** Chômage diplômés :\n",
    "Ligne bleue (prévision actuelle) : plate, autour de 100k → aucune amélioration spontanée prévue.\n",
    "Ligne bleue pointillée (scénario -5%/an) : décroissance nette, chute d’environ 25–30 % sur la période.\n",
    "\n",
    "Enseignements croisés :\n",
    "Les deux politiques agissent sur deux leviers complémentaires :\n",
    "    - L’emploi féminin est renforcé (offre ciblée, accès élargi)\n",
    "    - Le chômage diplômé est réduit (meilleure absorption des compétences)\n",
    "Mais : les niveaux restent dissociés → emploi féminin total beaucoup plus élevé que le volume de chômage diplômé, donc les courbes ne se croisent pas.\n",
    "\n",
    "Interprétation politique :\n",
    "Ce scénario est cohérent avec une politique d’inclusion productive des diplômés, en particulier des femmes.\n",
    "Il pourrait représenter un plan d’action type :\n",
    "    - Formation professionnelle ciblée\n",
    "    - Mise en réseau diplômés/entreprises\n",
    "    - Programmes sectoriels féminisés\n",
    "\n",
    "Impact potentiel :\n",
    "    - Réduction du chômage diplômé d’environ 35 % en 7 ans\n",
    "    - Création de plus de 200 000 emplois féminins supplémentaires\n",
    "    - Mais nécessité de renforcer l’effet structurel (égalité complète non atteinte)"
   ]
  },
  {
   "cell_type": "markdown",
   "id": "7d3b811f-dcf0-426b-a5a1-ad95e1c030b6",
   "metadata": {},
   "source": [
    "# Scénario 3 : Formation + Inclusion"
   ]
  },
  {
   "cell_type": "raw",
   "id": "8b336383-534b-447e-9937-355de3cf04e8",
   "metadata": {},
   "source": [
    "Hypothèses du scénario combiné :\n",
    "    - Réduction de 30 % du nombre de jeunes inactifs et chômeurs diplômés sur 7 ans (via formations et accompagnement).\n",
    "    - Augmentation de 20 % de l’emploi féminin dans le secteur choisi (politique d’inclusion active)."
   ]
  },
  {
   "cell_type": "code",
   "execution_count": 29,
   "id": "108ec3ff-1f44-4d07-a022-f17f8a24f40d",
   "metadata": {},
   "outputs": [
    {
     "data": {
      "application/vnd.jupyter.widget-view+json": {
       "model_id": "dc89ce4c28f94bb4816a59f945eb035a",
       "version_major": 2,
       "version_minor": 0
      },
      "text/plain": [
       "interactive(children=(Dropdown(description='Pays', options=('Tous les pays', 'Algeria', 'Angola', 'Benin', 'Bo…"
      ]
     },
     "metadata": {},
     "output_type": "display_data"
    }
   ],
   "source": [
    "annees = list(range(2025, 2031))\n",
    "\n",
    "pays_liste = [\"Tous les pays\"] + sorted(df_model_final[\"country\"].dropna().unique().tolist())\n",
    "secteurs_liste = [\"Tous les secteurs\"] + sorted(df_model_final[\"sector\"].dropna().unique().tolist())\n",
    "\n",
    "@interact(\n",
    "    country=Dropdown(options=pays_liste, description=\"Pays\"),\n",
    "    secteur=Dropdown(options=secteurs_liste, description=\"Secteur\")\n",
    ")\n",
    "def scenario_formation_inclusion(country, secteur):\n",
    "    fig = go.Figure()\n",
    "    output = Output()\n",
    "    button = Button(description=\"📥 Générer le CSV\")\n",
    "    data_present = False\n",
    "    df_export = None\n",
    "\n",
    "    feature_order = [\"year\", \"country\", \"gender\", \"education_level\", \"urban\", \"sector\"]\n",
    "\n",
    "    # EMPLOI FEMMES + SCÉNARIO\n",
    "    try:\n",
    "        secteurs_cibles = [secteur] if secteur != \"Tous les secteurs\" else secteurs_liste[1:]\n",
    "        f_code = label_encoders[\"gender\"].transform([\"female\"])[0]\n",
    "        c_code = label_encoders[\"country\"].transform([country])[0] if country != \"Tous les pays\" else None\n",
    "        e_code = label_encoders[\"education_level\"].transform([\"secondary\"])[0]\n",
    "        u_code = label_encoders[\"urban\"].transform([\"Urban\"])[0]\n",
    "\n",
    "        total_f = np.zeros(len(annees))\n",
    "\n",
    "        for s in secteurs_cibles:\n",
    "            try:\n",
    "                s_code = label_encoders[\"sector\"].transform([s])[0]\n",
    "                df_future_f = pd.DataFrame({\n",
    "                    \"year\": annees,\n",
    "                    \"country\": [c_code if c_code is not None else 0] * len(annees),\n",
    "                    \"gender\": [f_code] * len(annees),\n",
    "                    \"education_level\": [e_code] * len(annees),\n",
    "                    \"urban\": [u_code] * len(annees),\n",
    "                    \"sector\": [s_code] * len(annees)\n",
    "                })\n",
    "                df_future_f = df_future_f[feature_order]\n",
    "\n",
    "                pred_f = best_model.predict(df_future_f)\n",
    "                if country == \"Tous les pays\":\n",
    "                    pred_f = pred_f / len(label_encoders[\"country\"].classes_)\n",
    "                total_f += pred_f\n",
    "            except Exception as e:\n",
    "                print(f\"Erreur secteur {s} : {e}\")\n",
    "                continue\n",
    "\n",
    "        y_femmes = total_f\n",
    "        y_femmes_scenario = y_femmes * 1.20\n",
    "\n",
    "        fig.add_trace(go.Scatter(\n",
    "            x=annees,\n",
    "            y=y_femmes,\n",
    "            name=\"Femmes (emploi – prévision actuelle)\",\n",
    "            mode=\"lines+markers\",\n",
    "            line=dict(color=\"#d62728\")\n",
    "        ))\n",
    "        fig.add_trace(go.Scatter(\n",
    "            x=annees,\n",
    "            y=y_femmes_scenario,\n",
    "            name=\"Femmes (emploi – scénario +20%)\",\n",
    "            mode=\"lines+markers\",\n",
    "            line=dict(color=\"#ff9896\", dash=\"dash\")\n",
    "        ))\n",
    "        data_present = True\n",
    "\n",
    "    except Exception as e:\n",
    "        print(f\"Erreur emploi femmes : {e}\")\n",
    "\n",
    "    # RÉDUCTION INACTIFS / CHÔMEURS DIPLÔMÉS\n",
    "    try:\n",
    "        df_tmp = df_education_combined_clean.rename(columns={\"sex\": \"gender\", \"education\": \"education_level\"})\n",
    "        df_cible = df_tmp[\n",
    "            (df_tmp[\"status\"].isin([\"inactive\", \"unemployed\"])) &\n",
    "            (df_tmp[\"education_level\"].isin([\"secondary\", \"tertiary\"]))\n",
    "        ]\n",
    "        if country != \"Tous les pays\":\n",
    "            df_cible = df_cible[df_cible[\"country\"] == country]\n",
    "\n",
    "        df_hist = df_cible.groupby(\"year\")[\"population\"].sum().reset_index()\n",
    "        df_hist = df_hist[df_hist[\"year\"] <= 2023]\n",
    "\n",
    "        if not df_hist.empty:\n",
    "            base_val = df_hist[\"population\"].values[-1]\n",
    "            pred_norm = np.full(len(annees), base_val)\n",
    "            pred_scenario = base_val * (1 - 0.30) ** np.arange(len(annees))\n",
    "\n",
    "            fig.add_trace(go.Scatter(\n",
    "                x=annees,\n",
    "                y=pred_norm,\n",
    "                name=\"Inactifs/Chômeurs diplômés (prévu)\",\n",
    "                mode=\"lines+markers\",\n",
    "                line=dict(color=\"#1f77b4\")\n",
    "            ))\n",
    "            fig.add_trace(go.Scatter(\n",
    "                x=annees,\n",
    "                y=pred_scenario,\n",
    "                name=\"Inactifs/Chômeurs diplômés (-30%)\",\n",
    "                mode=\"lines+markers\",\n",
    "                line=dict(color=\"#aec7e8\", dash=\"dash\")\n",
    "            ))\n",
    "            data_present = True\n",
    "    except Exception as e:\n",
    "        print(f\"Erreur chômage diplômés : {e}\")\n",
    "\n",
    "    # AFFICHAGE FINAL\n",
    "    titre_pays = country if country != \"Tous les pays\" else \"tous les pays\"\n",
    "    titre_secteur = secteur if secteur != \"Tous les secteurs\" else \"tous les secteurs\"\n",
    "\n",
    "    fig.update_layout(\n",
    "        title=f\"Scénario combiné : Formation + Inclusion (+20 % emploi féminin) – ({titre_pays}, {titre_secteur})\",\n",
    "        xaxis_title=\"Années\",\n",
    "        yaxis_title=\"Population prédite\",\n",
    "        title_font_size=18,\n",
    "        legend_title=\"Composantes\"\n",
    "    )\n",
    "    fig.show()\n",
    "\n",
    "    # EXPORT CSV\n",
    "    if data_present:\n",
    "        df_export = pd.DataFrame({\n",
    "            \"Année\": annees,\n",
    "            \"Emploi femmes (prévu)\": y_femmes.round(),\n",
    "            \"Emploi femmes (+20%)\": y_femmes_scenario.round()\n",
    "        })\n",
    "\n",
    "        if 'pred_norm' in locals() and 'pred_scenario' in locals():\n",
    "            df_export[\"Inactifs/Chômeurs diplômés (prévu)\"] = pred_norm.round()\n",
    "            df_export[\"Inactifs/Chômeurs diplômés (-30%)\"] = pred_scenario.round()\n",
    "\n",
    "        df_export[\"Pays\"] = country\n",
    "        df_export[\"Secteur\"] = secteur\n",
    "\n",
    "        def on_click(b):\n",
    "            filename = f\"scenario_formation_inclusion_{country.replace(' ', '_')}_{secteur.replace(' ', '_')}.csv\"\n",
    "            df_export.to_csv(filename, index=False)\n",
    "            with output:\n",
    "                output.clear_output()\n",
    "                display(FileLink(filename, result_html_prefix=\"👉 Télécharger le fichier CSV ici : \"))\n",
    "\n",
    "        button.on_click(on_click)\n",
    "        display(VBox([button, output]))\n",
    "    else:\n",
    "        print(\"Aucune donnée exploitable pour ce filtre.\")"
   ]
  },
  {
   "cell_type": "raw",
   "id": "b106370b-ded2-47a2-b54e-3a403a89ec41",
   "metadata": {},
   "source": [
    "*****Analyse du graphique pour le Sénégal tous secteurs confondus****\n",
    "\n",
    "Lecture du graphique :\n",
    "*** Emploi des femmes :\n",
    "    - Courbe rouge (prévision actuelle) : légère hausse, mais modérée (~1.05M → ~1.2M).\n",
    "    - Courbe pointillée rouge (scénario +20%) : amélioration nette (~1.45M en 2030).\n",
    "⇒ Effet positif visible, sans rupture majeure mais réduction claire de l’écart emploi H/F.\n",
    "\n",
    "*** Inactifs/Chômeurs diplômés :\n",
    "    - Courbe bleue (prévision actuelle) : stable à ~700 000 → situation bloquée sans politique active.\n",
    "    - Courbe bleue pointillée (scénario -30%) : forte chute (jusqu’à ~150 000 en 2030).\n",
    "⇒ Résultat fort de la politique de formation ciblée, avec baisse régulière sur 7 ans.\n",
    "\n",
    "Interprétation croisée :\n",
    "Ce scénario agit sur deux maillons critiques :\n",
    "    - L’offre de travail féminine (en la valorisant)\n",
    "    - Le stock de jeunes formés inemployés (via la formation et l’insertion)\n",
    "Les deux dynamiques sont complémentaires :\n",
    "    - Plus de femmes disponibles = + d’inclusivité\n",
    "    - Moins d’inactifs diplômés = + d’efficacité du système éducatif\n",
    "\n",
    "Impacts politiques potentiels :\n",
    "    - Création nette de plus de 250 000 emplois féminins supplémentaires\n",
    "    - Réduction de 75 % du chômage diplômé en 7 ans\n",
    "Cela suppose des réformes :\n",
    "    - Formation professionnalisante adaptée au tissu économique\n",
    "    - Partenariats public/privé\n",
    "    - Campagnes d’inclusion féminine (zones rurales, tech, services…)"
   ]
  },
  {
   "cell_type": "markdown",
   "id": "fd3839cb-ec84-4e3a-8de3-48ae13d7c43c",
   "metadata": {},
   "source": [
    "# Scénario 4 : Décentralisation + Valorisation des chaînes de valeur locales"
   ]
  },
  {
   "cell_type": "raw",
   "id": "ac19783f-ef33-4de1-abb3-c34d11663f8e",
   "metadata": {},
   "source": [
    "Objectif : stimuler l'emploi en zones rurales en investissant dans les secteurs endogènes (agriculture, artisanat, agriTech…), avec des opportunités de formalisation."
   ]
  },
  {
   "cell_type": "code",
   "execution_count": 31,
   "id": "f43bd9a5-7550-4c9f-a998-adabe1e180a5",
   "metadata": {},
   "outputs": [
    {
     "data": {
      "application/vnd.jupyter.widget-view+json": {
       "model_id": "0cabd84c03e0450a92cc1f376f062127",
       "version_major": 2,
       "version_minor": 0
      },
      "text/plain": [
       "interactive(children=(Dropdown(description='Pays', options=('Tous les pays', 'Algeria', 'Angola', 'Benin', 'Bo…"
      ]
     },
     "metadata": {},
     "output_type": "display_data"
    }
   ],
   "source": [
    "# Années de simulation\n",
    "annees = list(range(2025, 2031))\n",
    "\n",
    "# Dropdowns pays/secteurs\n",
    "pays_liste = [\"Tous les pays\"] + sorted(df_model_final[\"country\"].dropna().unique().tolist())\n",
    "secteurs_liste = [\"Tous les secteurs\"] + sorted(df_model_final[\"sector\"].dropna().unique().tolist())\n",
    "\n",
    "@interact(\n",
    "    country=Dropdown(options=pays_liste, description=\"Pays\"),\n",
    "    secteur=Dropdown(options=secteurs_liste, description=\"Secteur\")\n",
    ")\n",
    "def scenario_valorisation_locale_genre_egal(country, secteur):\n",
    "    fig = go.Figure()\n",
    "    output = Output()\n",
    "    button = Button(description=\"📥 Générer le CSV\")\n",
    "    feature_order = [\"year\", \"country\", \"gender\", \"education_level\", \"urban\", \"sector\"]\n",
    "\n",
    "    try:\n",
    "        secteurs_cibles = [secteur] if secteur != \"Tous les secteurs\" else secteurs_liste[1:]\n",
    "        c_code = label_encoders[\"country\"].transform([country])[0] if country != \"Tous les pays\" else 0\n",
    "        e_code = label_encoders[\"education_level\"].transform([\"secondary\"])[0]\n",
    "        u_code = label_encoders[\"urban\"].transform([\"Rural\"])[0]\n",
    "        f_code = label_encoders[\"gender\"].transform([\"female\"])[0]\n",
    "        m_code = label_encoders[\"gender\"].transform([\"male\"])[0]\n",
    "\n",
    "        total_f = np.zeros(len(annees))\n",
    "        total_f_scenario = np.zeros(len(annees))\n",
    "        total_m = np.zeros(len(annees))\n",
    "        total_m_scenario = np.zeros(len(annees))\n",
    "\n",
    "        for s in secteurs_cibles:\n",
    "            try:\n",
    "                s_code = label_encoders[\"sector\"].transform([s])[0]\n",
    "\n",
    "                df_f = pd.DataFrame({\n",
    "                    \"year\": annees,\n",
    "                    \"country\": [c_code] * len(annees),\n",
    "                    \"gender\": [f_code] * len(annees),\n",
    "                    \"education_level\": [e_code] * len(annees),\n",
    "                    \"urban\": [u_code] * len(annees),\n",
    "                    \"sector\": [s_code] * len(annees)\n",
    "                })[feature_order]\n",
    "\n",
    "                df_m = pd.DataFrame({\n",
    "                    \"year\": annees,\n",
    "                    \"country\": [c_code] * len(annees),\n",
    "                    \"gender\": [m_code] * len(annees),\n",
    "                    \"education_level\": [e_code] * len(annees),\n",
    "                    \"urban\": [u_code] * len(annees),\n",
    "                    \"sector\": [s_code] * len(annees)\n",
    "                })[feature_order]\n",
    "\n",
    "                pred_f = best_model.predict(df_f)\n",
    "                pred_m = best_model.predict(df_m)\n",
    "\n",
    "                if country == \"Tous les pays\":\n",
    "                    n_countries = len(label_encoders[\"country\"].classes_)\n",
    "                    pred_f /= n_countries\n",
    "                    pred_m /= n_countries\n",
    "\n",
    "                total_f += pred_f\n",
    "                total_f_scenario += pred_f * 1.30  # Femmes +30%\n",
    "                total_m += pred_m\n",
    "                total_m_scenario += pred_m * 1.30  # Hommes +30%\n",
    "\n",
    "            except Exception as e:\n",
    "                print(f\"Erreur secteur {s} : {e}\")\n",
    "                continue\n",
    "\n",
    "        # Tracés\n",
    "        fig.add_trace(go.Scatter(x=annees, y=total_f, name=\"Femmes (prévu)\", mode=\"lines+markers\", line=dict(color=\"#d62728\")))\n",
    "        fig.add_trace(go.Scatter(x=annees, y=total_f_scenario, name=\"Femmes (+30%)\", mode=\"lines+markers\", line=dict(color=\"#ff9896\", dash=\"dash\")))\n",
    "        fig.add_trace(go.Scatter(x=annees, y=total_m, name=\"Hommes (prévu)\", mode=\"lines+markers\", line=dict(color=\"#1f77b4\")))\n",
    "        fig.add_trace(go.Scatter(x=annees, y=total_m_scenario, name=\"Hommes (+30%)\", mode=\"lines+markers\", line=dict(color=\"#aec7e8\", dash=\"dash\")))\n",
    "\n",
    "        fig.update_layout(\n",
    "            title=f\"Scénario combiné : Décentralisation & Valorisation des chaînes locales – ({country}, {secteur})\",\n",
    "            xaxis_title=\"Années\",\n",
    "            yaxis_title=\"Population prédite (rural)\",\n",
    "            title_font_size=18,\n",
    "            legend_title=\"Genre / scénario\"\n",
    "        )\n",
    "        fig.show()\n",
    "\n",
    "        # Export CSV\n",
    "        df_export = pd.DataFrame({\n",
    "            \"Année\": annees,\n",
    "            \"Femmes (prévu)\": total_f.round(),\n",
    "            \"Femmes (+30%)\": total_f_scenario.round(),\n",
    "            \"Hommes (prévu)\": total_m.round(),\n",
    "            \"Hommes (+30%)\": total_m_scenario.round(),\n",
    "            \"Pays\": country,\n",
    "            \"Secteur\": secteur\n",
    "        })\n",
    "\n",
    "        def on_click(b):\n",
    "            filename = f\"scenario_valorisation_locale_genre_egal_{country.replace(' ', '_')}_{secteur.replace(' ', '_')}.csv\"\n",
    "            df_export.to_csv(filename, index=False)\n",
    "            with output:\n",
    "                output.clear_output()\n",
    "                display(FileLink(filename, result_html_prefix=\"👉 Télécharger le fichier CSV ici : \"))\n",
    "\n",
    "        button.on_click(on_click)\n",
    "        display(VBox([button, output]))\n",
    "\n",
    "    except Exception as e:\n",
    "        print(f\"Erreur : {e}\")"
   ]
  },
  {
   "cell_type": "raw",
   "id": "97cb567c-f971-4cae-a092-82c297d4bb7d",
   "metadata": {},
   "source": [
    "*****Analyse du graphique pour le Sénégal tous secteurs confondus****\n",
    "\n",
    "Lecture des courbes :\n",
    "*** Femmes :\n",
    "    - Courbe rouge pleine (prévu) : progression modeste (~1.05M à ~1.35M).\n",
    "    - Courbe pointillée rose (scénario +30%) : montée plus dynamique, atteignant ~1.75M en 2030.\n",
    "Gain de près de 400 000 femmes supplémentaires en emploi rural grâce à la valorisation locale.\n",
    "\n",
    "*** Hommes :\n",
    "    - Courbe bleue pleine (prévu) : stable mais plus élevée (~1.7M → ~1.95M).\n",
    "    - Courbe pointillée bleue clair (scénario +30%) : dépasse les 2.5M en 2030.\n",
    "Bénéfice similaire pour les hommes, avec un effet amplifié par leur base déjà plus haute.\n",
    "\n",
    "Analyse croisée :\n",
    "    - Le scénario agit sur les deux genres, avec un impact plus visible en valeur absolue chez les hommes.\n",
    "    - Mais en valeur relative, la progression des femmes est forte (croissance proportionnelle + nette réduction de l’écart).\n",
    "    - Enjeux politiques mis en lumière\n",
    "Ce graphique valide l’idée que :\n",
    "    - Les territoires ruraux sont des leviers sous-exploités de création d’emplois.\n",
    "    - Les femmes peuvent en bénéficier autant que les hommes si les politiques sont bien conçues (accès, équipements, mobilité…).\n",
    "    - Les chaînes de valeur locales (agri/agro, artisanat, services décentralisés) sont à la fois inclusives et économiquement viables.\n",
    "\n",
    "Recommandations politiques :\n",
    "    - Renforcer la logique de cluster rural, avec écosystèmes économiques locaux.\n",
    "    - Favoriser la structuration de filières féminisées en ruralité (transformation, textile, soins…).\n",
    "    - Adopter une stratégie rurale différenciée dans les politiques d’emploi nationales."
   ]
  },
  {
   "cell_type": "markdown",
   "id": "837a573d-b3f2-4d9d-acea-c576975be274",
   "metadata": {},
   "source": [
    "# Réponses aux questions de la tache 1"
   ]
  },
  {
   "cell_type": "raw",
   "id": "b4718574-ae37-41a3-9d51-e2907fc22063",
   "metadata": {},
   "source": [
    "1. Inadéquation entre l’éducation et l’emploi\n",
    "Comment le niveau d’éducation est-il corrélé avec l’emploi des jeunes ?\n",
    "Les analyses montrent une corrélation positive jusqu’au secondaire, mais qui s’affaiblit voire s’inverse au niveau supérieur :\n",
    "    - Les jeunes sans éducation sont majoritairement inactifs (~90 % hors du marché du travail).\n",
    "    - Les jeunes de niveau primaire et secondaire sont principalement étudiants ou inactifs, avec un faible taux d’emploi.\n",
    "    - Les jeunes de niveau tertiaire présentent paradoxalement un taux de chômage élevé (~22 % des non-étudiants), révélant une inadéquation formation/emploi.\n",
    "Conclusion : l’éducation formelle augmente l’accès au marché du travail, mais ne garantit pas l’insertion, surtout au niveau supérieur sans passerelle concrète vers l’emploi.\n",
    "\n",
    "Quels niveaux d’études sont les plus exposés au chômage ou au sous-emploi ?\n",
    "    - Tertiaire : exposé au chômage diplômé (fort volume de diplômés sans insertion réelle).\n",
    "    - Secondaire : engorgement avec 12M d’étudiants → transition difficile vers l’emploi.\n",
    "    - No education / primary : très forte inactivité, mais peu de chômage car exclus des circuits de recherche formelle d’emploi.\n",
    "Conclusion : L’école n’élimine pas le chômage, et les diplômés du supérieur sont paradoxalement les plus touchés.\n",
    "\n",
    "2. Prévision des tendances de l’emploi & secteurs émergents\n",
    "Peut-on modéliser les résultats de l’emploi des jeunes jusqu’en 2030 ?\n",
    "Oui, grâce aux modèles RandomForestRegressor entraînés sur les données fusionnées (sector, gender, education_level, urban, etc.), plusieurs scénarios ont été générés :\n",
    "    - Scénario de parité (+20 % femmes) : augmentation mesurable de l’emploi féminin (~+250k)\n",
    "    - Scénario formation + inclusion : baisse du chômage diplômé de 30 % en 7 ans\n",
    "    - Scénario décentralisation + valorisation rurale : hausse importante de l’emploi rural féminin (+30 %)\n",
    "\n",
    "Quels secteurs sont les plus prometteurs ?\n",
    "Les résultats du top 10 montrent :\n",
    "    - Commerce de gros/détail : 1er pour l’emploi jeunes, relativement équilibré hommes/femmes.\n",
    "    - Manufacture, Construction, Transport : forts volumes masculins, mais peu ouverts aux femmes actuellement.\n",
    "    - Éducation, Restauration, Autres services : principaux employeurs de femmes → fort potentiel de structuration inclusive.\n",
    "\n",
    "Des changements démographiques et sectoriels affecteront-ils l’emploi ?\n",
    "Oui : les prévisions montrent que sans transformation structurelle (valorisation des filières rurales, inclusion féminine, relance des services publics locaux), l’emploi jeune progresse peu et reste inégalitaire.\n",
    "\n",
    "3. Disparités de genre dans l’emploi des jeunes\n",
    "Quel est l’écart actuel entre hommes et femmes ?\n",
    "Inactivité féminine massive : 25M de femmes inactives contre 11M d’hommes.\n",
    "Présence féminine dans l’emploi : nettement inférieure dans l’agriculture, l’industrie, et en zone rurale.\n",
    "Conclusion : Les femmes sont sous-représentées dans tous les segments de l’économie structurée, sauf dans les services et le commerce.\n",
    "\n",
    "Les jeunes femmes sont-elles surreprésentées dans l’emploi informel ou vulnérable ?\n",
    "Oui :\n",
    "Les secteurs où elles sont présentes (commerce, services, agro-transformation) sont largement informels.\n",
    "En ruralité, leur travail est souvent non reconnu statistiquement (agriculture familiale, soutien domestique…).\n",
    "\n",
    "Questions transversales :\n",
    "Comment les perspectives changeraient-elles si les femmes participaient autant que les hommes ?\n",
    "Le scénario de parité montre qu’un simple choc de +20 % d’emploi féminin :\n",
    "    - Augmente de plus de 200 000 le nombre de femmes actives,\n",
    "    - Réduit l’écart sans toutefois le supprimer.\n",
    "Conclusion : Une égalisation de la participation féminine transformerait radicalement la structure de la population active, avec un gain net de productivité et de résilience économique.\n",
    "\n",
    "Et si le niveau d’éducation des femmes égalait celui des hommes ?\n",
    "Aujourd’hui, les femmes sont plus nombreuses que les hommes jusqu’au niveau secondaire, mais largement en retrait au niveau tertiaire.\n",
    "Une égalisation du niveau supérieur entraînerait un afflux de diplômées, qui devrait s’accompagner de politiques d’insertion ciblées pour éviter de renforcer le chômage diplômé féminin.\n",
    "\n",
    "Conclusion opérationnelle :\n",
    "    - Le système éducatif produit des diplômés… mais n’organise pas leur insertion.\n",
    "    - Les jeunes femmes sont la réserve de croissance la plus sous-exploitée.\n",
    "    - Les politiques efficaces doivent être sectorielles, genrées, et territorialisées."
   ]
  },
  {
   "cell_type": "markdown",
   "id": "e56065aa-b14f-4130-a9a6-9441e309f4d8",
   "metadata": {},
   "source": [
    "# 5. Formulation et explication de quelques enseignements clés apportant une compréhension concrète et exploitable des défis et opportunités liés à l’emploi des jeunes dans la région."
   ]
  },
  {
   "cell_type": "raw",
   "id": "d9673c3b-a868-43c8-b51c-877930f895a0",
   "metadata": {},
   "source": [
    "1. L’éducation seule ne garantit pas l’emploi.\n",
    "Défi : Les jeunes diplômés, notamment du secondaire et du supérieur, sont confrontés à un chômage structurel élevé (jusqu’à 22 % pour le niveau tertiaire).\n",
    "Explication : L’inadéquation entre les filières scolaires et les besoins économiques freine la transition vers l’emploi, malgré une scolarisation croissante.\n",
    "Opportunité : L’intégration de formations professionnalisantes, techniques et numériques dès le secondaire permettrait de mieux aligner compétences et débouchés réels.\n",
    "\n",
    "2. Le secondaire est un goulot d’étranglement éducatif.\n",
    "Défi : Plus de 12 millions de jeunes au niveau secondaire sont en attente d’un débouché (formation ou emploi).\n",
    "Explication : Ce niveau concentre la majorité des élèves mais peu de passerelles vers l’emploi.\n",
    "Opportunité : C’est le meilleur point d’ancrage pour développer l’alternance, les formations métiers et l’entrepreneuriat jeune.\n",
    "\n",
    "3. Les jeunes femmes instruites sont sous-utilisées, mais représentent un levier stratégique\n",
    "Défi : Plus de 25 millions de jeunes femmes sont inactives, soit plus du double des hommes, malgré une forte progression dans l’accès à l’éducation, notamment au niveau secondaire. Pourtant, elles peinent à accéder à l’emploi formel ou à poursuivre dans le supérieur.\n",
    "Opportunité : Le scénario de parité (+20 %) montre qu’une politique volontariste d’inclusion des femmes dans l’emploi peut créer plus de 250 000 emplois supplémentaires féminins, stages ciblés, d’incubateurs féminins, de passerelles vers les secteurs porteurstout en réduisant le chômage des diplômées. Une stratégie ciblée sur les jeunes femmes instruites, combinant accompagnement, crédits, formation qualifiante et sécurisation du travail, représente un levier déterminant pour mobiliser le plein potentiel démographique et économique du pays.\n",
    "\n",
    "4. Le commerce et les services sont les secteurs les plus inclusifs.\n",
    "Défi : L’industrie et la construction restent quasi exclusivement masculines.\n",
    "Explication : Les stéréotypes de genre et l’absence de formation technique féminine limitent l’accès des jeunes femmes à ces secteurs.\n",
    "Opportunité : Les services et le commerce, plus paritaires, offrent un levier puissant pour l’emploi jeune à condition d’être structurés (accompagnement, formalisation, crédit).\n",
    "\n",
    "5. Les inégalités territoriales aggravent les fractures sociales.\n",
    "Défi : L’emploi est fortement concentré en zones urbaines, au détriment des jeunes en milieu rural, notamment les femmes.\n",
    "Explication : Les opportunités économiques et les infrastructures sont centralisées, tandis que le potentiel local reste sous-exploité.\n",
    "Opportunité : Le scénario “décentralisation + chaînes locales” montre qu’un choc de +30 % en milieu rural peut réduire les écarts et revitaliser les économies locales.\n",
    "\n",
    "6. Les tendances démographiques peuvent devenir un dividende.\n",
    "Défi : La majorité des jeunes sont aujourd’hui inactifs ou sous-employés.\n",
    "Explication : Sans réforme profonde, la pression démographique deviendra un fardeau économique.\n",
    "Opportunité : Les modèles prédictifs montrent que des scénarios bien articulés (formation + inclusion + territorialisation) permettent d’absorber plusieurs centaines de milliers de jeunes dans l’emploi productif d’ici 2030."
   ]
  }
 ],
 "metadata": {
  "kernelspec": {
   "display_name": "Python 3 (ipykernel)",
   "language": "python",
   "name": "python3"
  },
  "language_info": {
   "codemirror_mode": {
    "name": "ipython",
    "version": 3
   },
   "file_extension": ".py",
   "mimetype": "text/x-python",
   "name": "python",
   "nbconvert_exporter": "python",
   "pygments_lexer": "ipython3",
   "version": "3.11.7"
  }
 },
 "nbformat": 4,
 "nbformat_minor": 5
}
